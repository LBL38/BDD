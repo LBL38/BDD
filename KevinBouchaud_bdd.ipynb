{
 "cells": [
  {
   "cell_type": "code",
   "execution_count": null,
   "id": "d2f8da23",
   "metadata": {},
   "outputs": [],
   "source": [
    "%config Completer.use_jedi = False\n",
    "\n",
    "from IPython.core.display import display, HTML\n",
    "display(HTML(\"<style>.container { width:90% !important; }</style>\"))"
   ]
  },
  {
   "cell_type": "markdown",
   "id": "aef50b21",
   "metadata": {},
   "source": [
    "### SQL with pandas (create database)"
   ]
  },
  {
   "cell_type": "code",
   "execution_count": null,
   "id": "21071aa7",
   "metadata": {},
   "outputs": [],
   "source": [
    "import sqlite3\n",
    "import pandas as pd"
   ]
  },
  {
   "cell_type": "code",
   "execution_count": null,
   "id": "2f754ed4",
   "metadata": {},
   "outputs": [],
   "source": [
    "agency = pd.read_csv('sem_gtfs/agency.txt')\n",
    "stoptimes = pd.read_csv('sem_gtfs/stop_times.txt')\n",
    "stops = pd.read_csv('sem_gtfs/stops.txt')\n",
    "trips = pd.read_csv('sem_gtfs/trips.txt')"
   ]
  },
  {
   "cell_type": "markdown",
   "id": "188178b5",
   "metadata": {},
   "source": [
    "##### Add one row"
   ]
  },
  {
   "cell_type": "code",
   "execution_count": null,
   "id": "7377bf13",
   "metadata": {},
   "outputs": [],
   "source": [
    "def gen_insert_query(table_name:str, a_dict:dict) -> str:\n",
    "    return f\"INSERT INTO {table_name} {tuple(a_dict.keys())} VALUES {tuple(a_dict.values())}\""
   ]
  },
  {
   "cell_type": "markdown",
   "id": "9b721b2c",
   "metadata": {},
   "source": [
    "##### Add rows from dict"
   ]
  },
  {
   "cell_type": "code",
   "execution_count": null,
   "id": "8e9ee655",
   "metadata": {},
   "outputs": [],
   "source": [
    "def gen_insert_queries(table_name:str, a_dict:dict) -> str:\n",
    "    return f\"INSERT INTO {table_name} {tuple(a_dict.keys())} VALUES {','.join(str(i) for i in tuple(zip(*a_dict.values())))}\""
   ]
  },
  {
   "cell_type": "markdown",
   "id": "88173ac1",
   "metadata": {},
   "source": [
    "##### Add rows from pandas DataFrame"
   ]
  },
  {
   "cell_type": "code",
   "execution_count": null,
   "id": "e512981d",
   "metadata": {},
   "outputs": [],
   "source": [
    "def gen_insert_queries_df(table_name:str, df:pd.DataFrame) -> str:\n",
    "    dico = df.to_dict(orient='list')\n",
    "    return f\"INSERT INTO {table_name} {tuple(dico.keys())} VALUES {','.join(str(i) for i in tuple(zip(*dico.values())))}\""
   ]
  },
  {
   "cell_type": "code",
   "execution_count": null,
   "id": "ccdc7ada",
   "metadata": {},
   "outputs": [],
   "source": [
    "dico = dict(trips.iloc[0])\n",
    "dico_multi = trips.loc[:, ['trip_id', 'trip_headsign', 'service_id', 'direction_id']].iloc[20:30].to_dict(orient='list')"
   ]
  },
  {
   "cell_type": "code",
   "execution_count": null,
   "id": "239fc3d4",
   "metadata": {},
   "outputs": [],
   "source": [
    "gen_insert_query('trips', dico)"
   ]
  },
  {
   "cell_type": "code",
   "execution_count": null,
   "id": "4837152a",
   "metadata": {},
   "outputs": [],
   "source": [
    "gen_insert_queries_df('trips', trips.iloc[:10])"
   ]
  },
  {
   "cell_type": "markdown",
   "id": "14778c30",
   "metadata": {},
   "source": [
    "##### Execute SQL insertion commands"
   ]
  },
  {
   "cell_type": "code",
   "execution_count": null,
   "id": "cac883e7",
   "metadata": {},
   "outputs": [],
   "source": [
    "conn = sqlite3.connect('gtfs_tag.db')\n",
    "cur = conn.cursor()\n",
    "cur.execute(gen_insert_queries('trips', dico_multi))\n",
    "conn.commit()\n",
    "conn.close()"
   ]
  },
  {
   "cell_type": "markdown",
   "id": "feacd071",
   "metadata": {},
   "source": [
    "#####  Create file containing sql insertion commands"
   ]
  },
  {
   "cell_type": "code",
   "execution_count": null,
   "id": "2c6e231b",
   "metadata": {},
   "outputs": [],
   "source": [
    "def gen_insert_file(filename, tablename, df):\n",
    "    with open(filename, 'w') as file:\n",
    "        file.write(gen_insert_queries_df(tablename, df))"
   ]
  },
  {
   "cell_type": "code",
   "execution_count": null,
   "id": "01bf55da",
   "metadata": {},
   "outputs": [],
   "source": [
    "gen_insert_file('file_test.txt', 'trips', trips.loc[:, ['trip_id', 'trip_headsign', 'service_id', 'direction_id']].iloc[:10])"
   ]
  },
  {
   "cell_type": "markdown",
   "id": "e53e970a",
   "metadata": {},
   "source": [
    "##### Execute from file"
   ]
  },
  {
   "cell_type": "code",
   "execution_count": null,
   "id": "f1eaa256",
   "metadata": {},
   "outputs": [],
   "source": [
    "def execute_sql_file(db_name, file_name):\n",
    "    conn = sqlite3.connect(db_name)\n",
    "    cur = conn.cursor()\n",
    "    with open(file_name) as file:\n",
    "        cur.execute(file.read())\n",
    "    conn.commit()\n",
    "    conn.close()"
   ]
  }
 ],
 "metadata": {
  "kernelspec": {
   "display_name": "Python 3 (ipykernel)",
   "language": "python",
   "name": "python3"
  },
  "language_info": {
   "codemirror_mode": {
    "name": "ipython",
    "version": 3
   },
   "file_extension": ".py",
   "mimetype": "text/x-python",
   "name": "python",
   "nbconvert_exporter": "python",
   "pygments_lexer": "ipython3",
   "version": "3.8.12"
  }
 },
 "nbformat": 4,
 "nbformat_minor": 5
}
