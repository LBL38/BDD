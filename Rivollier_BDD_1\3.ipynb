{
 "cells": [
  {
   "cell_type": "code",
   "execution_count": 1,
   "id": "60e77df3-1040-4c5f-9da1-c339c0c4b204",
   "metadata": {},
   "outputs": [],
   "source": [
    "import sqlite3"
   ]
  },
  {
   "cell_type": "code",
   "execution_count": 2,
   "id": "d703b3b4-1cf3-48c6-ae77-fc8822707291",
   "metadata": {},
   "outputs": [],
   "source": [
    "connection = sqlite3.connect('/home/dataplus/Desktop/test.db')\n",
    "c = connection.cursor()"
   ]
  },
  {
   "cell_type": "code",
   "execution_count": 3,
   "id": "6b2bfc11-7a8e-4a44-992f-951c2035bcfc",
   "metadata": {},
   "outputs": [],
   "source": [
    "db = '/home/dataplus/Desktop/test.db'"
   ]
  },
  {
   "cell_type": "code",
   "execution_count": 6,
   "id": "ce76d1f7-69cc-4b83-b03c-09db07539c72",
   "metadata": {},
   "outputs": [
    {
     "data": {
      "text/plain": [
       "<sqlite3.Cursor at 0x7f2ab417a030>"
      ]
     },
     "execution_count": 6,
     "metadata": {},
     "output_type": "execute_result"
    }
   ],
   "source": [
    "c.execute(''' INSERT INTO agencies VALUES (1,'TAG') ''')"
   ]
  },
  {
   "cell_type": "code",
   "execution_count": 7,
   "id": "178d1a7b-121e-42cd-afe1-8a69f458c46e",
   "metadata": {},
   "outputs": [
    {
     "name": "stdout",
     "output_type": "stream",
     "text": [
      "[]\n"
     ]
    }
   ],
   "source": [
    "print(c.fetchall())"
   ]
  },
  {
   "cell_type": "code",
   "execution_count": 8,
   "id": "0aed2e8d-8b7d-4c5d-b676-5f51b901d7fa",
   "metadata": {},
   "outputs": [
    {
     "name": "stdout",
     "output_type": "stream",
     "text": [
      "(1, 'TAG')\n"
     ]
    }
   ],
   "source": [
    "for row in c.execute('''SELECT * FROM agencies WHERE agencyID = 1 '''):\n",
    "    print(row)"
   ]
  },
  {
   "cell_type": "code",
   "execution_count": 9,
   "id": "e7e546f3-6b37-4dc6-9183-042a6dc963d7",
   "metadata": {},
   "outputs": [],
   "source": [
    "connection.commit()"
   ]
  },
  {
   "cell_type": "code",
   "execution_count": 10,
   "id": "06c104d9-c0fb-4580-b1bb-1aad6b7179ec",
   "metadata": {},
   "outputs": [],
   "source": [
    "connection.close()"
   ]
  }
 ],
 "metadata": {
  "kernelspec": {
   "display_name": "Python 3 (ipykernel)",
   "language": "python",
   "name": "python3"
  },
  "language_info": {
   "codemirror_mode": {
    "name": "ipython",
    "version": 3
   },
   "file_extension": ".py",
   "mimetype": "text/x-python",
   "name": "python",
   "nbconvert_exporter": "python",
   "pygments_lexer": "ipython3",
   "version": "3.9.7"
  },
  "toc-autonumbering": false,
  "toc-showcode": true,
  "toc-showmarkdowntxt": false
 },
 "nbformat": 4,
 "nbformat_minor": 5
}
