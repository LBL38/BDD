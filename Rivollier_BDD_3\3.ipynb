{
 "cells": [
  {
   "cell_type": "code",
   "execution_count": null,
   "id": "70d16021-3e04-48f1-8e6f-906f9613b032",
   "metadata": {},
   "outputs": [],
   "source": [
    "import pandas as pd\n",
    "from sqlite3 import connect\n",
    "import numpy as np"
   ]
  },
  {
   "cell_type": "code",
   "execution_count": null,
   "id": "30f03fa9-dc6e-4168-924f-bbd77eba0a0e",
   "metadata": {},
   "outputs": [],
   "source": [
    "my_code = '''SELECT * FROM agencies'''\n",
    "conn = connect('test.db')\n",
    "df = pd.read_sql(my_code, conn)\n",
    "df"
   ]
  },
  {
   "cell_type": "code",
   "execution_count": null,
   "id": "42cb97c6-e85f-4fbd-9c13-a9d16bdeb72f",
   "metadata": {
    "tags": []
   },
   "outputs": [],
   "source": [
    "data = pd.read_csv('SEM-GTFS/agency.txt')\n",
    "data.head()"
   ]
  },
  {
   "cell_type": "code",
   "execution_count": null,
   "id": "d551c4bb-ed22-444f-a336-cebbed13b092",
   "metadata": {},
   "outputs": [],
   "source": [
    "connection = connect('test.db')\n",
    "cursor = connection.cursor()"
   ]
  },
  {
   "cell_type": "code",
   "execution_count": null,
   "id": "58c2bda3-f304-414b-86fb-2a6bacfb2a1f",
   "metadata": {},
   "outputs": [],
   "source": [
    "data.to_sql(\"agencies\",connection, if_exists=\"replace\", index = False)"
   ]
  },
  {
   "cell_type": "code",
   "execution_count": null,
   "id": "69e0c28b-3cd6-480a-a873-7f699316e645",
   "metadata": {},
   "outputs": [],
   "source": [
    "my_code = '''SELECT * FROM agencies'''\n",
    "conn = connect('test.db')\n",
    "df = pd.read_sql(my_code, conn)\n",
    "df"
   ]
  },
  {
   "cell_type": "code",
   "execution_count": null,
   "id": "93b6424e-37a9-4686-bafa-58ec9acce81f",
   "metadata": {
    "tags": []
   },
   "outputs": [],
   "source": [
    "data = pd.read_csv('SEM-GTFS/stops.txt')\n",
    "data.drop(columns=['zone_id','location_type'],inplace = True)\n",
    "data.head()"
   ]
  },
  {
   "cell_type": "code",
   "execution_count": null,
   "id": "9136a0f4-787f-495c-bb96-e7b04f1b10a3",
   "metadata": {},
   "outputs": [],
   "source": [
    "connection = connect('test.db')\n",
    "cursor = connection.cursor()\n",
    "data.to_sql(\"stops\",connection, if_exists=\"replace\", index = False)"
   ]
  },
  {
   "cell_type": "code",
   "execution_count": null,
   "id": "61fc0b59-88e4-495b-8343-172a4827bf55",
   "metadata": {},
   "outputs": [],
   "source": [
    "my_code = '''SELECT * FROM stops'''\n",
    "df = pd.read_sql(my_code, connection)\n",
    "df"
   ]
  },
  {
   "cell_type": "code",
   "execution_count": null,
   "id": "843f4cd7-836e-4331-8ab1-b3a73646aaa5",
   "metadata": {},
   "outputs": [],
   "source": []
  }
 ],
 "metadata": {
  "kernelspec": {
   "display_name": "Python 3 (ipykernel)",
   "language": "python",
   "name": "python3"
  },
  "language_info": {
   "codemirror_mode": {
    "name": "ipython",
    "version": 3
   },
   "file_extension": ".py",
   "mimetype": "text/x-python",
   "name": "python",
   "nbconvert_exporter": "python",
   "pygments_lexer": "ipython3",
   "version": "3.9.7"
  },
  "toc": {
   "base_numbering": 1,
   "nav_menu": {},
   "number_sections": true,
   "sideBar": true,
   "skip_h1_title": false,
   "title_cell": "Table of Contents",
   "title_sidebar": "Contents",
   "toc_cell": false,
   "toc_position": {},
   "toc_section_display": true,
   "toc_window_display": false
  }
 },
 "nbformat": 4,
 "nbformat_minor": 5
}
