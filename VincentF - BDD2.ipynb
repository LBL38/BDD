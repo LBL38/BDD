{
 "cells": [
  {
   "cell_type": "markdown",
   "id": "3c21859b",
   "metadata": {},
   "source": [
    "# Itération 3 - Module BDD"
   ]
  },
  {
   "cell_type": "code",
   "execution_count": null,
   "id": "17434354",
   "metadata": {},
   "outputs": [],
   "source": [
    "import sqlite3\n",
    "import pandas as pd\n",
    "GTFS = sqlite3.connect('../Ressources/gtfs_tag.db')"
   ]
  },
  {
   "cell_type": "code",
   "execution_count": null,
   "id": "503a401c",
   "metadata": {},
   "outputs": [],
   "source": [
    "requete = 'SELECT * FROM agency'\n",
    "df = pd.read_sql(requete, GTFS)"
   ]
  },
  {
   "cell_type": "code",
   "execution_count": null,
   "id": "ca9fbdd5",
   "metadata": {
    "scrolled": true
   },
   "outputs": [],
   "source": [
    "df"
   ]
  },
  {
   "cell_type": "code",
   "execution_count": null,
   "id": "25a3a7b0",
   "metadata": {},
   "outputs": [],
   "source": [
    "from os import listdir"
   ]
  },
  {
   "cell_type": "code",
   "execution_count": null,
   "id": "a53bd88f",
   "metadata": {},
   "outputs": [],
   "source": [
    "path = '../Ressources/SEM-GTFS'\n",
    "fich = listdir(path)\n",
    "fich"
   ]
  },
  {
   "cell_type": "code",
   "execution_count": null,
   "id": "03d025d5",
   "metadata": {},
   "outputs": [],
   "source": [
    "cursor = GTFS.cursor()"
   ]
  },
  {
   "cell_type": "code",
   "execution_count": null,
   "id": "18b696d6",
   "metadata": {},
   "outputs": [],
   "source": [
    "for name in fich:\n",
    "    pos = name.find(\".\")\n",
    "    result = name[0:pos]\n",
    "    print(result)"
   ]
  },
  {
   "cell_type": "markdown",
   "id": "608baa61",
   "metadata": {},
   "source": [
    "## Ecriture brute dans la base de donnée"
   ]
  },
  {
   "cell_type": "code",
   "execution_count": null,
   "id": "6e5d373c",
   "metadata": {},
   "outputs": [],
   "source": [
    "# trip 0\n",
    "path2 = path + \"/\" + fich[0]\n",
    "df= pd.read_csv(path2, sep=',')\n",
    "df.head()\n",
    "df2=df.loc[:, [\"trip_id\", \"route_id\", \"service_id\", \"shape_id\"]]\n",
    "df2.set_index(\"trip_id\")"
   ]
  },
  {
   "cell_type": "code",
   "execution_count": null,
   "id": "01976e2a",
   "metadata": {},
   "outputs": [],
   "source": [
    "test3 = sqlite3.connect('../Ressources/test3.db')"
   ]
  },
  {
   "cell_type": "code",
   "execution_count": null,
   "id": "448527c0",
   "metadata": {
    "scrolled": true
   },
   "outputs": [],
   "source": [
    "df2.to_sql('trips', con=test3, if_exists='append', index=False)"
   ]
  },
  {
   "cell_type": "markdown",
   "id": "91ef3637",
   "metadata": {},
   "source": [
    "## Ecriture \"manuel\" dans la base de donnée"
   ]
  },
  {
   "cell_type": "code",
   "execution_count": null,
   "id": "b10e36eb",
   "metadata": {},
   "outputs": [],
   "source": [
    "#trip 0\n",
    "path2 = path + \"/\" + fich[0]\n",
    "df= pd.read_csv(path2, sep=',')\n",
    "df.head()\n",
    "df2=df.loc[:, [\"trip_id\", \"route_id\", \"service_id\", \"shape_id\"]]\n",
    "df2\n",
    "\n",
    "dico = {}\n",
    "for j in df2.index:\n",
    "    for i in df2.columns:\n",
    "        dico[i] = df2.loc[j, i]\n",
    "\n",
    "    cursor.execute(\"\"\"INSERT INTO trips(trip_id, route_id, service_id, shape_id) \n",
    "    VALUES(:trip_id, :route_id, :service_id, :shape_id)\"\"\", dico)\n",
    "GTFS.commit()\n",
    "\n",
    "# agency 8\n",
    "path2 = path + \"/\" + fich[8]\n",
    "df= pd.read_csv(path2, sep=',')\n",
    "df.head()\n",
    "df2=df.loc[:, [\"agency_id\", \"agency_name\", \"agency_url\", \"agency_timezone\"]]\n",
    "df2\n",
    "\n",
    "\n",
    "dico = {}\n",
    "for j in df2.index:\n",
    "    for i in df2.columns:\n",
    "        dico[i] = df2.loc[j, i]\n",
    "\n",
    "    cursor.execute(\"\"\"INSERT INTO agency(agency_id, agency_name, agency_url, agency_timezone) \n",
    "    VALUES(:agency_id, :agency_name, :agency_url, :agency_timezone)\"\"\", dico)\n",
    "GTFS.commit()\n",
    "\n",
    "\n",
    "# routes 9\n",
    "path2 = path + \"/\" + fich[9]\n",
    "df= pd.read_csv(path2, sep=',')\n",
    "df.head()\n",
    "df2=df.loc[:, [\"route_id\", \"agency_id\", \"route_short_name\", \"route_long_name\"]]\n",
    "df2\n",
    "\n",
    "\n",
    "dico = {}\n",
    "for j in df2.index:\n",
    "    for i in df2.columns:\n",
    "        dico[i] = df2.loc[j, i]\n",
    "\n",
    "    cursor.execute(\"\"\"INSERT INTO routes(route_id, agency_id, route_short_name, route_long_name) \n",
    "    VALUES(:route_id, :agency_id, :route_short_name, :route_long_name)\"\"\", dico)\n",
    "GTFS.commit()\n",
    "\n",
    "#stop_times 11\n",
    "path2 = path + \"/\" + fich[11]\n",
    "df= pd.read_csv(path2, sep=',')\n",
    "df.head()\n",
    "df2=df.loc[:, [\"trip_id\", \"arrival_time\", \"departure_time\", \"stop_id\", \"stop_sequence\"]]\n",
    "df2\n",
    "\n",
    "dico = {}\n",
    "for j in df2.index:\n",
    "    for i in df2.columns:\n",
    "        dico[i] = df2.loc[j, i]\n",
    "\n",
    "    cursor.execute(\"\"\"INSERT INTO stop_times(trip_id, arrival_time, departure_time, stop_id, stop_sequence) \n",
    "    VALUES(:trip_id, :arrival_time, :departure_time, :stop_id, :stop_sequence)\"\"\", dico)\n",
    "GTFS.commit()\n",
    "\n",
    "#stops 5\n",
    "path2 = path + \"/\" + fich[5]\n",
    "df= pd.read_csv(path2, sep=',')\n",
    "df.head()\n",
    "df2=df.loc[:, [\"stop_id\", \"stop_name\", \"stop_lat\", \"stop_lon\", \"zone_id\", \"parent_station\"]]\n",
    "df2\n",
    "\n",
    "dico = {}\n",
    "for j in df2.index:\n",
    "    for i in df2.columns:\n",
    "        dico[i] = df2.loc[j, i]\n",
    "\n",
    "    cursor.execute(\"\"\"INSERT INTO stops(stop_id, stop_name, stop_lat, stop_lon, zone_id, parent_station) \n",
    "    VALUES(:stop_id, :stop_name, :stop_lat, :stop_lon, :zone_id, :parent_station)\"\"\", dico)\n",
    "GTFS.commit()\n"
   ]
  },
  {
   "cell_type": "markdown",
   "id": "f7d77712",
   "metadata": {},
   "source": [
    "## Ecriture \"automatique\" dans la base de donnée"
   ]
  },
  {
   "cell_type": "code",
   "execution_count": null,
   "id": "8a0a89ff",
   "metadata": {},
   "outputs": [],
   "source": [
    "def gen_insert_query(table_name:str, a_dict:dict) -> str:\n",
    "    result = \"INSERT INTO \" + table_name + \"(\"\n",
    "    for i, key in enumerate(a_dict):\n",
    "        if i == len(a_dict) - 1:\n",
    "            result += key +\") \"\n",
    "        else:\n",
    "            result += key +\", \"\n",
    "    result += \"VALUES(\"\n",
    "    for i, key in enumerate(a_dict):\n",
    "        if i == len(a_dict) - 1:\n",
    "            result += \":\" + key +\")\"\n",
    "        else:\n",
    "            result += \":\" + key  + \", \"\n",
    "\n",
    "    return result"
   ]
  },
  {
   "cell_type": "code",
   "execution_count": null,
   "id": "67919a27",
   "metadata": {},
   "outputs": [],
   "source": [
    "def get_insert_queries(tablename:str, df: pd.DataFrame) -> list:\n",
    "    result = []\n",
    "    for j in df.index:\n",
    "        dico = {}\n",
    "        for i in df.columns:\n",
    "            dico[i] = df.loc[j, i] \n",
    "#         print(dico)\n",
    "        result.append(gen_insert_query(tablename, dico))\n",
    "    return result\n"
   ]
  },
  {
   "cell_type": "code",
   "execution_count": null,
   "id": "72975915",
   "metadata": {},
   "outputs": [],
   "source": [
    "def gen_insert_file(filename: str, tablename, df):\n",
    "       \n",
    "    # Remplissage de la base\n",
    "    conn = sqlite3.connect(filename)\n",
    "    cursor = conn.cursor()\n",
    "    liste_insert = get_insert_queries(tablename, df)\n",
    "    for j, l in enumerate(liste_insert):\n",
    "        dico = {i: df.loc[j, i] for i in df.columns}\n",
    "#         print(dico)\n",
    "        cursor.execute(l, dico)\n",
    "    conn.commit()\n",
    "    conn.close()\n",
    "    \n",
    "    "
   ]
  },
  {
   "cell_type": "code",
   "execution_count": null,
   "id": "dce790bf",
   "metadata": {},
   "outputs": [],
   "source": [
    "# agency 8\n",
    "path2 = path + \"/\" + fich[8]\n",
    "df= pd.read_csv(path2, sep=',')\n",
    "df.head()\n",
    "df_agence=df.loc[:, [\"agency_id\", \"agency_name\", \"agency_url\", \"agency_timezone\"]]\n",
    "df_agence.head(2)"
   ]
  },
  {
   "cell_type": "code",
   "execution_count": null,
   "id": "8b9aad17",
   "metadata": {},
   "outputs": [],
   "source": [
    "# routes 9\n",
    "path2 = path + \"/\" + fich[9]\n",
    "df= pd.read_csv(path2, sep=',')\n",
    "df.head()\n",
    "df_route=df.loc[:, [\"route_id\", \"agency_id\", \"route_short_name\", \"route_long_name\"]]\n",
    "df_route.head(2)"
   ]
  },
  {
   "cell_type": "code",
   "execution_count": null,
   "id": "606e04b4",
   "metadata": {},
   "outputs": [],
   "source": [
    "# Stop_time 11\n",
    "path2 = path + \"/\" + fich[11]\n",
    "df= pd.read_csv(path2, sep=',')\n",
    "df.head()\n",
    "df_stopt=df.loc[:, [\"trip_id\", \"arrival_time\", \"departure_time\", \"stop_id\", \"stop_sequence\"]]\n",
    "df_stopt.head(2)"
   ]
  },
  {
   "cell_type": "code",
   "execution_count": null,
   "id": "ea34b8e6",
   "metadata": {},
   "outputs": [],
   "source": [
    "# trips 0\n",
    "path2 = path + \"/\" + fich[0]\n",
    "df= pd.read_csv(path2, sep=',')\n",
    "df.head()\n",
    "df_trip=df.loc[:, [\"trip_id\", \"route_id\", \"service_id\", \"shape_id\"]]\n",
    "df_trip.head(2)\n"
   ]
  },
  {
   "cell_type": "code",
   "execution_count": null,
   "id": "983bf782",
   "metadata": {},
   "outputs": [],
   "source": [
    "# Stops 5\n",
    "path2 = path + \"/\" + fich[5]\n",
    "df= pd.read_csv(path2, sep=',')\n",
    "df.head()\n",
    "df_stops=df.loc[:, [\"stop_id\", \"stop_name\", \"stop_lat\", \"stop_lon\", \"zone_id\", \"parent_station\"]]\n",
    "df_stops.head(2)"
   ]
  },
  {
   "cell_type": "code",
   "execution_count": null,
   "id": "a2c4e43d",
   "metadata": {
    "scrolled": false
   },
   "outputs": [],
   "source": [
    "gen_insert_file('../Ressources/test2.db', 'agency', df_agence)\n",
    "print('agence')\n",
    "gen_insert_file('../Ressources/test2.db', 'routes', df_route)\n",
    "print('route')\n",
    "gen_insert_file('../Ressources/test2.db', 'stop_times', df_stopt)\n",
    "print('stop_times')\n",
    "gen_insert_file('../Ressources/test2.db', 'trips', df_trip)\n",
    "print('trips')\n",
    "gen_insert_file('../Ressources/test2.db', 'stops', df_stops)\n",
    "print('stops')"
   ]
  }
 ],
 "metadata": {
  "kernelspec": {
   "display_name": "Python 3 (ipykernel)",
   "language": "python",
   "name": "python3"
  },
  "language_info": {
   "codemirror_mode": {
    "name": "ipython",
    "version": 3
   },
   "file_extension": ".py",
   "mimetype": "text/x-python",
   "name": "python",
   "nbconvert_exporter": "python",
   "pygments_lexer": "ipython3",
   "version": "3.9.7"
  },
  "toc": {
   "base_numbering": 1,
   "nav_menu": {},
   "number_sections": true,
   "sideBar": true,
   "skip_h1_title": false,
   "title_cell": "Table of Contents",
   "title_sidebar": "Contents",
   "toc_cell": false,
   "toc_position": {
    "height": "calc(100% - 180px)",
    "left": "10px",
    "top": "150px",
    "width": "320px"
   },
   "toc_section_display": true,
   "toc_window_display": true
  },
  "varInspector": {
   "cols": {
    "lenName": 16,
    "lenType": 16,
    "lenVar": 40
   },
   "kernels_config": {
    "python": {
     "delete_cmd_postfix": "",
     "delete_cmd_prefix": "del ",
     "library": "var_list.py",
     "varRefreshCmd": "print(var_dic_list())"
    },
    "r": {
     "delete_cmd_postfix": ") ",
     "delete_cmd_prefix": "rm(",
     "library": "var_list.r",
     "varRefreshCmd": "cat(var_dic_list()) "
    }
   },
   "types_to_exclude": [
    "module",
    "function",
    "builtin_function_or_method",
    "instance",
    "_Feature"
   ],
   "window_display": false
  }
 },
 "nbformat": 4,
 "nbformat_minor": 5
}
