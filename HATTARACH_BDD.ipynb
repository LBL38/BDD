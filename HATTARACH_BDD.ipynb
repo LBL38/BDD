{
 "cells": [
  {
   "cell_type": "code",
   "execution_count": null,
   "id": "81718f0a",
   "metadata": {},
   "outputs": [],
   "source": [
    "import sqlite3\n",
    "import pandas as pd\n",
    "conn = sqlite3.connect('gtfs_schema.sql')\n",
    "c = conn.cursor()"
   ]
  },
  {
   "cell_type": "code",
   "execution_count": null,
   "id": "641b766c",
   "metadata": {
    "scrolled": true
   },
   "outputs": [],
   "source": [
    "result = c.execute(\"SELECT name FROM sqlite_master WHERE type = 'table';\").fetchall()\n",
    "table_names = sorted(list(zip(*result))[0])\n",
    "print(table_names)"
   ]
  },
  {
   "cell_type": "markdown",
   "id": "37b753c7",
   "metadata": {},
   "source": [
    "C3.3 - Insertion des données via Pandas"
   ]
  },
  {
   "cell_type": "code",
   "execution_count": null,
   "id": "740c6c26",
   "metadata": {},
   "outputs": [],
   "source": [
    "df_agency = pd.read_csv(\"./SEM-GTFS/agency.txt\")\n",
    "df_routes = pd.read_csv(\"./SEM-GTFS/routes.txt\")\n",
    "df_stops = pd.read_csv(\"./SEM-GTFS/stops.txt\")\n",
    "df_trips = pd.read_csv(\"./SEM-GTFS/trips.txt\")\n",
    "df_stop_times = pd.read_csv(\"./SEM-GTFS/stop_times.txt\")"
   ]
  },
  {
   "cell_type": "code",
   "execution_count": null,
   "id": "173de677",
   "metadata": {
    "scrolled": false
   },
   "outputs": [],
   "source": [
    "df_stops"
   ]
  },
  {
   "cell_type": "code",
   "execution_count": null,
   "id": "ee0e34fa",
   "metadata": {},
   "outputs": [],
   "source": [
    "df_trips"
   ]
  },
  {
   "cell_type": "code",
   "execution_count": null,
   "id": "8a8cb5eb",
   "metadata": {
    "scrolled": false
   },
   "outputs": [],
   "source": [
    "df_stop_times"
   ]
  },
  {
   "cell_type": "code",
   "execution_count": null,
   "id": "f529aab1",
   "metadata": {},
   "outputs": [],
   "source": [
    "table_names"
   ]
  },
  {
   "cell_type": "markdown",
   "id": "75416712",
   "metadata": {},
   "source": [
    "Question\n",
    "<br>\n",
    "\n",
    "result = c.execute(\"SELECT name FROM Agency WHERE type = 'table';\").fetchall()\n",
    "<br>\n",
    "get another type than table?"
   ]
  },
  {
   "cell_type": "code",
   "execution_count": null,
   "id": "0c50faf2",
   "metadata": {},
   "outputs": [],
   "source": [
    "# get column name from table\n",
    "def getColumn(table):\n",
    "    tempstring=\"SELECT * FROM \"+table\n",
    "    c.execute (tempstring)\n",
    "    #print (f\"-----in table {table} there are-----\")\n",
    "    colList=[]\n",
    "    for i in range(len(c.description)):\n",
    "        colList.append(c.description[i][0])\n",
    "        #print(c.description[i][0])\n",
    "    #print ('-----as columns-----\\n\\n')\n",
    "    return colList\n",
    "\n",
    "def getTableDict(database):                   \n",
    "    conn = sqlite3.connect(database)\n",
    "    c = conn.cursor()\n",
    "    result = c.execute(\"SELECT name FROM sqlite_master WHERE type = 'table';\").fetchall()\n",
    "    table_names = sorted(list(zip(*result))[0])\n",
    "    tableDict={}\n",
    "    for table in table_names:\n",
    "        tableDict[table]=getColumn(table)\n",
    "    return tableDict"
   ]
  },
  {
   "cell_type": "code",
   "execution_count": null,
   "id": "28b355a6",
   "metadata": {
    "scrolled": false
   },
   "outputs": [],
   "source": [
    "getTableDict('gtfs_schema.sql')"
   ]
  },
  {
   "cell_type": "markdown",
   "id": "71ff797b",
   "metadata": {},
   "source": [
    "problem <br>\n",
    "cannot establish an automatic relation between database and folder of csv(s) <br>\n",
    "    \n",
    "        solution is 1 file to 1 table manually ? or\n",
    "         AI to match automatically\n",
    "for now we apply 1st solution\n"
   ]
  },
  {
   "cell_type": "code",
   "execution_count": null,
   "id": "a833f8f7",
   "metadata": {},
   "outputs": [],
   "source": [
    "def "
   ]
  },
  {
   "cell_type": "code",
   "execution_count": null,
   "id": "a8b41a2f",
   "metadata": {},
   "outputs": [],
   "source": [
    "def sync(csv,table):\n",
    "    \"\"\" csv = csv file, table = table name in database 'gtfs_schema.sql'<----- to be dynamic; RETURN NONE\"\"\"\n",
    "    \n",
    "    tableDict = getTableDict('gtfs_schema.sql')\n",
    "    \n",
    "    if not (table in tableDict.keys()):              # check if input table is correct \n",
    "        raise NameError('table is not correct?')\n",
    "        \n",
    "    columns = tableDict[table]\n",
    "    NColumn = len(columns)\n",
    "    \n",
    "    #SQL syntax\n",
    "    textToInsert= 'INSERT INTO '+ table + ' VALUES ('+', '.join('?' * NColumn)+')'\n",
    "    \n",
    "    \"\"\"----------------------df side-------------------\"\"\"\n",
    "    df_temp = pd.read_csv(csv)\n",
    "    exeList= list(map(tuple, df_temp.loc[:,columns].values)) \n",
    "    \n",
    "    \"\"\"-----------------------execute--------------------\"\"\"\n",
    "    \n",
    "    textToRemove = 'DELETE FROM '+table              #clear the table first ?\n",
    "    c.execute(textToRemove)\n",
    "    print(\"old data cleared\")\n",
    "    \n",
    "    c.executemany(textToInsert, exeList)\n",
    "    conn.commit()\n",
    "    print (\"syncing success\",table)\n",
    "    return None\n",
    "\n",
    "sync(\"./SEM-GTFS/agency.txt\", 'Agency')\n",
    "sync(\"./SEM-GTFS/routes.txt\", 'Routes')"
   ]
  },
  {
   "cell_type": "code",
   "execution_count": null,
   "id": "221c92a5",
   "metadata": {},
   "outputs": [],
   "source": [
    "#tuple (df_agency.loc[:,['agency_id','agency_name']].values)\n"
   ]
  },
  {
   "cell_type": "code",
   "execution_count": null,
   "id": "08e0e1ad",
   "metadata": {},
   "outputs": [],
   "source": [
    "sync()"
   ]
  },
  {
   "cell_type": "code",
   "execution_count": null,
   "id": "85614493",
   "metadata": {},
   "outputs": [],
   "source": []
  }
 ],
 "metadata": {
  "kernelspec": {
   "display_name": "Python 3 (ipykernel)",
   "language": "python",
   "name": "python3"
  },
  "language_info": {
   "codemirror_mode": {
    "name": "ipython",
    "version": 3
   },
   "file_extension": ".py",
   "mimetype": "text/x-python",
   "name": "python",
   "nbconvert_exporter": "python",
   "pygments_lexer": "ipython3",
   "version": "3.9.7"
  },
  "toc": {
   "base_numbering": 1,
   "nav_menu": {},
   "number_sections": true,
   "sideBar": true,
   "skip_h1_title": false,
   "title_cell": "Table of Contents",
   "title_sidebar": "Contents",
   "toc_cell": false,
   "toc_position": {},
   "toc_section_display": true,
   "toc_window_display": false
  }
 },
 "nbformat": 4,
 "nbformat_minor": 5
}
