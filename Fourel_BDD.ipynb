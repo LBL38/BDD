{
 "cells": [
  {
   "cell_type": "code",
   "execution_count": null,
   "metadata": {},
   "outputs": [],
   "source": [
    "# Se connecter à une DB existente \n",
    "\n",
    "import sqlite3 \n",
    "import pandas as pd\n",
    "import matplotlib.pyplot as plt\n",
    "\n",
    "def initDB (db_path) :\n",
    "    \n",
    "    try:\n",
    "        sqliteConnection = sqlite3.connect('billboard/billboard-200.db')\n",
    "        print(\"Database created and Successfully Connected to SQLite\")\n",
    "\n",
    "    except sqlite3.Error as error:\n",
    "        print(\"Error while connecting to sqlite\", error)\n",
    "    \n",
    "    return sqliteConnection\n",
    "    \n",
    "def sqlQuery (sqliteConnection, query) :\n",
    "    \n",
    "    if sqliteConnection :\n",
    "        cursor = sqliteConnection.cursor()\n",
    "        sqlite_select_Query = query\n",
    "        cursor.execute(sqlite_select_Query)\n",
    "        record = cursor.fetchall()\n",
    "        cursor.close()\n",
    "        return record\n",
    "    else : \n",
    "        print(\"DB connection KO\")\n",
    "        return 'KO'\n",
    "        \n",
    "sqliteConnection = initDB('billboard/billboard-200.db')\n",
    "\n",
    "values = sqlQuery (sqliteConnection, \"\"\"SELECT artist, COUNT(artist) AS whala \n",
    "                      FROM albums\n",
    "                      WHERE (rank=1) AND (date > 2000)\n",
    "                      GROUP BY artist, album\n",
    "                      ORDER BY whala DESC\n",
    "                      LIMIT 10 \"\"\")\n"
   ]
  },
  {
   "cell_type": "code",
   "execution_count": null,
   "metadata": {},
   "outputs": [],
   "source": [
    "# Fermer la connection\n",
    "\n",
    "sqliteConnection.close()\n",
    "print(\"The SQLite connection is closed\")\n"
   ]
  },
  {
   "cell_type": "code",
   "execution_count": null,
   "metadata": {},
   "outputs": [],
   "source": [
    "# Récupérer requête dans un DataFrame Pandas\n",
    "\n",
    "conn = initDB('billboard/billboard-200.db')\n",
    "query = \"\"\"SELECT * FROM acoustic_features\"\"\"\n",
    "\n",
    "mydb = pd.read_sql(query, con=conn)\n",
    "mydb.set_index(pd.to_datetime(mydb.date), inplace=True)\n",
    "means = mydb.groupby(mydb.index.year).mean()\n",
    "\n",
    "with plt.style.context('fivethirtyeight'):\n",
    "    fig, axes = plt.subplots(4, 4, figsize=(30, 20), sharex=True)\n",
    "    for i, col in enumerate(means):\n",
    "        axes[i//4, i%4].plot(means[col])\n",
    "        axes[i//4, i%4].set_title(col)\n"
   ]
  },
  {
   "cell_type": "code",
   "execution_count": null,
   "metadata": {},
   "outputs": [],
   "source": [
    "# Quelle est l’année dont le niveau sonore «loudness » a été le plus haut ? \n",
    "mydb['loudness'].idxmax().year"
   ]
  },
  {
   "cell_type": "code",
   "execution_count": null,
   "metadata": {},
   "outputs": [],
   "source": [
    "# Quelle est la clé musicale la plus populaire - en prenant en compte le mode (e.g. majeur,  mineur) ? \n",
    "\n",
    "conn = initDB('billboard/billboard-200.db')\n",
    "query = \"\"\"SELECT  f.key, f.mode, COUNT(*) as nb\n",
    "           FROM acoustic_features f \n",
    "           GROUP BY f.key, f.mode\n",
    "           ORDER BY COUNT(*) DESC\"\"\"\n",
    "\n",
    "result = pd.read_sql(query, con=conn)\n",
    "result\n"
   ]
  },
  {
   "cell_type": "markdown",
   "metadata": {},
   "source": [
    "# Itération 3 "
   ]
  },
  {
   "cell_type": "code",
   "execution_count": 1,
   "metadata": {
    "tags": []
   },
   "outputs": [
    {
     "name": "stdout",
     "output_type": "stream",
     "text": [
      "'0004', '0004', 'Meylan, Revirée - Sayettes', '45.2122', '5.76728', 'nan', 'nan', 'REVIREES', '0'\n"
     ]
    },
    {
     "ename": "OperationalError",
     "evalue": "database is locked",
     "output_type": "error",
     "traceback": [
      "\u001b[0;31m---------------------------------------------------------------------------\u001b[0m",
      "\u001b[0;31mOperationalError\u001b[0m                          Traceback (most recent call last)",
      "\u001b[0;32m/tmp/ipykernel_165577/2175607950.py\u001b[0m in \u001b[0;36m<module>\u001b[0;34m\u001b[0m\n\u001b[1;32m     44\u001b[0m \u001b[0mstopsValues\u001b[0m \u001b[0;34m=\u001b[0m \u001b[0mformat_line_for_SQL_insert\u001b[0m\u001b[0;34m(\u001b[0m\u001b[0mdfStops\u001b[0m\u001b[0;34m)\u001b[0m\u001b[0;34m\u001b[0m\u001b[0;34m\u001b[0m\u001b[0m\n\u001b[1;32m     45\u001b[0m \u001b[0;34m\u001b[0m\u001b[0m\n\u001b[0;32m---> 46\u001b[0;31m \u001b[0minsert_data_SQL\u001b[0m\u001b[0;34m(\u001b[0m\u001b[0mstopsValues\u001b[0m\u001b[0;34m,\u001b[0m \u001b[0mbdd\u001b[0m\u001b[0;34m,\u001b[0m \u001b[0;34m'stops'\u001b[0m\u001b[0;34m)\u001b[0m\u001b[0;34m\u001b[0m\u001b[0;34m\u001b[0m\u001b[0m\n\u001b[0m",
      "\u001b[0;32m/tmp/ipykernel_165577/2175607950.py\u001b[0m in \u001b[0;36minsert_data_SQL\u001b[0;34m(listData, bdd, table)\u001b[0m\n\u001b[1;32m     27\u001b[0m         \u001b[0mprint\u001b[0m\u001b[0;34m(\u001b[0m\u001b[0mdata\u001b[0m\u001b[0;34m)\u001b[0m\u001b[0;34m\u001b[0m\u001b[0;34m\u001b[0m\u001b[0m\n\u001b[1;32m     28\u001b[0m         \u001b[0;31m# Insert a row of data\u001b[0m\u001b[0;34m\u001b[0m\u001b[0;34m\u001b[0m\u001b[0m\n\u001b[0;32m---> 29\u001b[0;31m         \u001b[0mcur\u001b[0m\u001b[0;34m.\u001b[0m\u001b[0mexecute\u001b[0m\u001b[0;34m(\u001b[0m\u001b[0;34mf\"INSERT INTO {table} VALUES ({data})\"\u001b[0m\u001b[0;34m)\u001b[0m\u001b[0;34m\u001b[0m\u001b[0;34m\u001b[0m\u001b[0m\n\u001b[0m\u001b[1;32m     30\u001b[0m         \u001b[0mcon\u001b[0m\u001b[0;34m.\u001b[0m\u001b[0mcommit\u001b[0m\u001b[0;34m(\u001b[0m\u001b[0;34m)\u001b[0m\u001b[0;34m\u001b[0m\u001b[0;34m\u001b[0m\u001b[0m\n\u001b[1;32m     31\u001b[0m \u001b[0;34m\u001b[0m\u001b[0m\n",
      "\u001b[0;31mOperationalError\u001b[0m: database is locked"
     ]
    }
   ],
   "source": [
    "import sqlite3\n",
    "import pandas as pd\n",
    "import numpy as np\n",
    "import re\n",
    "\n",
    "def read_gtfs_file (file_name):\n",
    "    df = pd.read_csv(file_name, index_col=None, header=None, na_values='ND')\n",
    "    return df\n",
    "\n",
    "def format_line_for_SQL_insert (df) :\n",
    "\n",
    "    valuesToInsert = df.values.tolist()\n",
    "    valuesToInsert.pop(0)\n",
    "    listVal = []\n",
    "    for obs in range(0,len(valuesToInsert)) :\n",
    "        val = re.sub('\\[','',str(valuesToInsert[obs])) \n",
    "        val = re.sub('\\]','',val)\n",
    "        listVal.append(val)\n",
    "        \n",
    "        \n",
    "    return listVal\n",
    "\n",
    "def insert_data_SQL (listData, bdd, table) :\n",
    "    \n",
    "    con = sqlite3.connect(bdd)\n",
    "    cur = con.cursor()\n",
    "\n",
    "    for data in listData :\n",
    "        print(data)\n",
    "        # Insert a row of data\n",
    "        cur.execute(f\"INSERT INTO {table} VALUES ({data})\")\n",
    "        con.commit()\n",
    "    \n",
    "    con.close()\n",
    "    \n",
    "def gen_insert_file(filename, tablename, df) :\n",
    "    \n",
    "    sqlFile = open(filename, \"w\")\n",
    "    sqlFile.write(\"BEGIN\")\n",
    "    for data in listData :\n",
    "        sqlFile.write(f\"INSERT INTO {tablename} VALUES ({data})\")\n",
    "    sqlFile.write(\"END\")\n",
    "    sqlFile.close()\n",
    "    \n",
    "    \n",
    "\n",
    "bdd = './Iteration3/test'\n",
    "agencyData = './Iteration3/data/agency.txt'\n",
    "stopsData = './Iteration3/data/stops.txt'\n",
    "\n",
    "dfAgency = read_gtfs_file(agencyData)\n",
    "dfStops = read_gtfs_file(stopsData)\n",
    "\n",
    "dfStops = dfStops.replace(np.nan, 'nan')\n",
    "\n",
    "agencyValues = format_line_for_SQL_insert(dfAgency)\n",
    "stopsValues = format_line_for_SQL_insert(dfStops)\n",
    "\n",
    "insert_data_SQL(stopsValues, bdd, 'stops')\n"
   ]
  },
  {
   "cell_type": "code",
   "execution_count": null,
   "metadata": {},
   "outputs": [],
   "source": [
    "stopsValues"
   ]
  },
  {
   "cell_type": "code",
   "execution_count": null,
   "metadata": {},
   "outputs": [],
   "source": []
  },
  {
   "cell_type": "code",
   "execution_count": null,
   "metadata": {},
   "outputs": [],
   "source": []
  }
 ],
 "metadata": {
  "kernelspec": {
   "display_name": "Python 3 (ipykernel)",
   "language": "python",
   "name": "python3"
  },
  "language_info": {
   "codemirror_mode": {
    "name": "ipython",
    "version": 3
   },
   "file_extension": ".py",
   "mimetype": "text/x-python",
   "name": "python",
   "nbconvert_exporter": "python",
   "pygments_lexer": "ipython3",
   "version": "3.9.7"
  },
  "toc": {
   "base_numbering": 1,
   "nav_menu": {},
   "number_sections": true,
   "sideBar": true,
   "skip_h1_title": false,
   "title_cell": "Table of Contents",
   "title_sidebar": "Contents",
   "toc_cell": false,
   "toc_position": {
    "height": "calc(100% - 180px)",
    "left": "10px",
    "top": "150px",
    "width": "303.825px"
   },
   "toc_section_display": true,
   "toc_window_display": true
  },
  "varInspector": {
   "cols": {
    "lenName": 16,
    "lenType": 16,
    "lenVar": 40
   },
   "kernels_config": {
    "python": {
     "delete_cmd_postfix": "",
     "delete_cmd_prefix": "del ",
     "library": "var_list.py",
     "varRefreshCmd": "print(var_dic_list())"
    },
    "r": {
     "delete_cmd_postfix": ") ",
     "delete_cmd_prefix": "rm(",
     "library": "var_list.r",
     "varRefreshCmd": "cat(var_dic_list()) "
    }
   },
   "types_to_exclude": [
    "module",
    "function",
    "builtin_function_or_method",
    "instance",
    "_Feature"
   ],
   "window_display": false
  }
 },
 "nbformat": 4,
 "nbformat_minor": 4
}
