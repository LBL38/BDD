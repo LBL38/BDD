{
 "cells": [
  {
   "cell_type": "code",
   "execution_count": 15,
   "id": "54063101",
   "metadata": {},
   "outputs": [
    {
     "name": "stdout",
     "output_type": "stream",
     "text": [
      "SQL insert process finished\n",
      "SQL insert process finished\n",
      "SQL insert process finished\n",
      "SQL insert process finished\n",
      "SQL insert process finished\n"
     ]
    }
   ],
   "source": [
    "\n",
    "import sqlite3\n",
    "from sqlite3 import Error\n",
    "import pandas as pd\n",
    "\n",
    "list_attributes=['agency',\n",
    "            'stops',\n",
    "            'routes',\n",
    "            'trips',\n",
    "            'stop_times']\n",
    "list_CSV_FILE_PATH = ['SEM-GTFS/agency.txt',\n",
    "                      'SEM-GTFS/stops.txt',\n",
    "                      'SEM-GTFS/routes.txt',\n",
    "                      'SEM-GTFS/trips.txt',\n",
    "                      'SEM-GTFS/stop_times.txt']\n",
    "DB_FILE_PATH = 'gtfs_tag2.db'\n",
    "CSV_FILE_PATH = 'SEM-GTFS/stops.txt'\n",
    "\n",
    "\n",
    "def connect_to_db(db_file):\n",
    "    \"\"\"\n",
    "    Connect to an SQlite database, if db file does not exist it will be created\n",
    "    :param db_file: absolute or relative path of db file\n",
    "    :return: sqlite3 connection\n",
    "    \"\"\"\n",
    "    sqlite3_conn = None\n",
    "\n",
    "    try:\n",
    "        sqlite3_conn = sqlite3.connect(db_file)\n",
    "        return sqlite3_conn\n",
    "\n",
    "    except Error as err:\n",
    "        print(err)\n",
    "\n",
    "        if sqlite3_conn is not None:\n",
    "            sqlite3_conn.close()\n",
    "\n",
    "\n",
    "def insert_values_to_table(table_name, csv_file):\n",
    "    \"\"\"\n",
    "    Open a csv file with pandas, store its content in a pandas data frame, change the data frame headers to the table\n",
    "    column names and insert the data to the table\n",
    "    :param table_name: table name in the database to insert the data into\n",
    "    :param csv_file: path of the csv file to process\n",
    "    :return: None\n",
    "    \"\"\"\n",
    "\n",
    "    conn = connect_to_db(DB_FILE_PATH)\n",
    "\n",
    "    if conn is not None:\n",
    "        c = conn.cursor()\n",
    "\n",
    "        # Create table if it is not exist\n",
    "#         c.execute('DROP TABLE IF EXISTS ' + table_name +\n",
    "#                   'CREATE TABLE' + table_name +\n",
    "#                   'agency_id       ID,'\n",
    "#                   'agency_name     TEXT,'\n",
    "#                   'agency_url      TEXT,'\n",
    "#                   'agency_timezone TEXT,'\n",
    "#                   'agency_lang     TEXT,'\n",
    "#                   'agency_phone     INT,' \n",
    "#                   'PRIMARY KEY  (agency_id)')\n",
    "\n",
    "        df = pd.read_csv(csv_file)\n",
    "\n",
    "        df.columns = get_column_names_from_db_table(c, table_name)\n",
    "\n",
    "        df.to_sql(name=table_name, con=conn, if_exists='replace', index=False)\n",
    "\n",
    "        conn.close()\n",
    "        print('SQL insert process finished')\n",
    "    else:\n",
    "        print('Connection to database failed')\n",
    "\n",
    "\n",
    "def get_column_names_from_db_table(sql_cursor, table_name):\n",
    "    \"\"\"\n",
    "    Scrape the column names from a database table to a list\n",
    "    :param sql_cursor: sqlite cursor\n",
    "    :param table_name: table name to get the column names from\n",
    "    :return: a list with table column names\n",
    "    \"\"\"\n",
    "\n",
    "    table_column_names = 'PRAGMA table_info(' + table_name + ');'\n",
    "    sql_cursor.execute(table_column_names)\n",
    "    table_column_names = sql_cursor.fetchall()\n",
    "\n",
    "    column_names = list()\n",
    "\n",
    "    for name in table_column_names:\n",
    "        column_names.append(name[1])\n",
    "\n",
    "    return column_names\n",
    "\n",
    "\n",
    "if __name__ == '__main__':\n",
    "    for attr, file in zip(list_attributes,list_CSV_FILE_PATH):\n",
    "        insert_values_to_table(attr, file)\n",
    "\n"
   ]
  },
  {
   "cell_type": "code",
   "execution_count": null,
   "id": "174bd0a7",
   "metadata": {},
   "outputs": [],
   "source": [
    "def gen_insert_query(table_name:str, a_dict:dict) -> str\n"
   ]
  },
  {
   "cell_type": "code",
   "execution_count": null,
   "id": "5d214a04",
   "metadata": {},
   "outputs": [],
   "source": [
    "import sqlite3\n",
    "import pandas as pd\n",
    "conn = sqlite3.connect('gtfs_tag2.db')\n"
   ]
  },
  {
   "cell_type": "code",
   "execution_count": null,
   "id": "4afc0539",
   "metadata": {},
   "outputs": [],
   "source": [
    "import matplotlib.pyplot as plt\n",
    "          \n",
    "sql_agency = pd.read_sql('''SELECT * FROM agen''', conn)\n",
    "\n",
    "df = pd.DataFrame(sql_agency)\n",
    "df"
   ]
  },
  {
   "cell_type": "code",
   "execution_count": null,
   "id": "bf48b578",
   "metadata": {},
   "outputs": [],
   "source": []
  },
  {
   "cell_type": "code",
   "execution_count": 62,
   "id": "e356bd98",
   "metadata": {},
   "outputs": [
    {
     "data": {
      "text/html": [
       "<div>\n",
       "<style scoped>\n",
       "    .dataframe tbody tr th:only-of-type {\n",
       "        vertical-align: middle;\n",
       "    }\n",
       "\n",
       "    .dataframe tbody tr th {\n",
       "        vertical-align: top;\n",
       "    }\n",
       "\n",
       "    .dataframe thead th {\n",
       "        text-align: right;\n",
       "    }\n",
       "</style>\n",
       "<table border=\"1\" class=\"dataframe\">\n",
       "  <thead>\n",
       "    <tr style=\"text-align: right;\">\n",
       "      <th></th>\n",
       "      <th>agency_id</th>\n",
       "      <th>agency_name</th>\n",
       "      <th>agency_url</th>\n",
       "      <th>agency_timezone</th>\n",
       "      <th>agency_lang</th>\n",
       "      <th>agency_phone</th>\n",
       "    </tr>\n",
       "  </thead>\n",
       "  <tbody>\n",
       "    <tr>\n",
       "      <th>0</th>\n",
       "      <td>SEM</td>\n",
       "      <td>Mobilités M - Tag</td>\n",
       "      <td>https://www.mobilites-m.fr/</td>\n",
       "      <td>Europe/Paris</td>\n",
       "      <td>FR</td>\n",
       "      <td>438703870</td>\n",
       "    </tr>\n",
       "  </tbody>\n",
       "</table>\n",
       "</div>"
      ],
      "text/plain": [
       "  agency_id        agency_name                   agency_url agency_timezone  \\\n",
       "0       SEM  Mobilités M - Tag  https://www.mobilites-m.fr/    Europe/Paris   \n",
       "\n",
       "  agency_lang  agency_phone  \n",
       "0          FR     438703870  "
      ]
     },
     "execution_count": 62,
     "metadata": {},
     "output_type": "execute_result"
    }
   ],
   "source": [
    "\n"
   ]
  },
  {
   "cell_type": "code",
   "execution_count": null,
   "id": "6eda06cf",
   "metadata": {},
   "outputs": [],
   "source": []
  }
 ],
 "metadata": {
  "kernelspec": {
   "display_name": "Python 3 (ipykernel)",
   "language": "python",
   "name": "python3"
  },
  "language_info": {
   "codemirror_mode": {
    "name": "ipython",
    "version": 3
   },
   "file_extension": ".py",
   "mimetype": "text/x-python",
   "name": "python",
   "nbconvert_exporter": "python",
   "pygments_lexer": "ipython3",
   "version": "3.9.7"
  }
 },
 "nbformat": 4,
 "nbformat_minor": 5
}
