{
 "cells": [
  {
   "cell_type": "code",
   "execution_count": null,
   "id": "cc7b9843",
   "metadata": {},
   "outputs": [],
   "source": [
    "from IPython.core.display import display, HTML\n",
    "display(HTML(\"<style>.container { width:90% !important; }</style>\"))"
   ]
  },
  {
   "cell_type": "markdown",
   "id": "704b2b91",
   "metadata": {},
   "source": [
    "# BDD Iter3"
   ]
  },
  {
   "cell_type": "markdown",
   "id": "e70ad998",
   "metadata": {},
   "source": [
    "C3.1.3 : Diagramme\n",
    "\n",
    "Le diagramme manque d’une information clé: la multiplicité des associations. En équipe, retrouvez les multiplicités des associations suivantes:\n",
    "    a. Agency - Routes -> 1..1 ------- 1..* (une route appartient forcément à une agence, une agence peut prendre une muliciplicité de routes et au moins une)\n",
    "    b. Trips - StopTimes  -> 1..1 ------- 2..*\n",
    "    c. StopTimes - Stops  -> 1..* ------- 1..1\n",
    "    d. Trips - Calendar  -> 1..* ------- 1..* (ou 1..1 ?)\n",
    "    e. Trips - Frequencies  -> 1..1 ------ 0..*   (ou 0..* ------- 0..1 ?)"
   ]
  },
  {
   "cell_type": "markdown",
   "id": "6f621d8c",
   "metadata": {},
   "source": [
    "C3.2 - Création d’un schéma\n",
    "\n",
    "DROP TABLE IF EXISTS agency;\n",
    "CREATE TABLE agency\n",
    "(\n",
    "    agency_id INT,\n",
    "    agency_name TEXT,\n",
    "    PRIMARY KEY  (agency_id)\n",
    ");\n",
    "\n",
    "DROP TABLE IF EXISTS routes;\n",
    "CREATE TABLE routes\n",
    "(\n",
    "    route_id INT,\n",
    "    agency_id INT,\n",
    "    route_short_name TEXT,\n",
    "    route_type INT,\n",
    "    PRIMARY KEY (route_id),\n",
    "    FOREIGN KEY (agency_id) REFERENCES agency(agency_id)\n",
    ");\n",
    "\n",
    "DROP TABLE IF EXISTS trips;\n",
    "CREATE TABLE trips\n",
    "(\n",
    "    trip_id INT,\n",
    "    trip_short_name TEXT,\n",
    "    PRIMARY KEY (trip_id)\n",
    "    -- cette ligne ne marche pas : FOREIGN KEY (route_id) REFERENCES routes(route_id)\n",
    ");\n",
    "\n",
    "DROP TABLE IF EXISTS stoptimes;\n",
    "CREATE TABLE stoptimes\n",
    "(\n",
    "    trip_id INT,\n",
    "    stop_id INT,\n",
    "    arrival_time TIME,\n",
    "    departure_time TIME,\n",
    "    stop_sequence INT,\n",
    "    PRIMARY KEY (trip_id, stop_id),\n",
    "    FOREIGN KEY (trip_id) REFERENCES trips(trip_id),\n",
    "    FOREIGN KEY (stop_id) REFERENCES stops(stop_id)\n",
    ");\n",
    "\n",
    "DROP TABLE IF EXISTS stops;\n",
    "CREATE TABLE stops\n",
    "(\n",
    "    stop_id INT,\n",
    "    stop_name TEXT,\n",
    "    stop_lat REAL,\n",
    "    stop_lon REAL,\n",
    "    PRIMARY KEY (stop_id)\n",
    ");"
   ]
  },
  {
   "cell_type": "markdown",
   "id": "45c9e132",
   "metadata": {},
   "source": [
    "C3.3 - Insertion des données via Pandas"
   ]
  },
  {
   "cell_type": "code",
   "execution_count": null,
   "id": "757c9294",
   "metadata": {},
   "outputs": [],
   "source": [
    "import sqlite3\n",
    "import pandas as pd"
   ]
  },
  {
   "cell_type": "code",
   "execution_count": null,
   "id": "9ce22d7e",
   "metadata": {},
   "outputs": [],
   "source": [
    "# Create a DataFrame with all .txt\n",
    "agency = pd.read_csv('./SEM-GTFS/agency.txt')\n",
    "agency = agency.iloc[:,[0,1]]\n",
    "agency"
   ]
  },
  {
   "cell_type": "code",
   "execution_count": null,
   "id": "2330a688",
   "metadata": {},
   "outputs": [],
   "source": [
    "routes = pd.read_csv('./SEM-GTFS/routes.txt')\n",
    "routes = routes.iloc[:,[0,1,2,4]]\n",
    "routes.head()"
   ]
  },
  {
   "cell_type": "code",
   "execution_count": null,
   "id": "672c2187",
   "metadata": {},
   "outputs": [],
   "source": [
    "stops = pd.read_csv('./SEM-GTFS/stops.txt')\n",
    "stops = stops.iloc[:,[0,2,3,4]]\n",
    "stops.head()"
   ]
  },
  {
   "cell_type": "code",
   "execution_count": null,
   "id": "b3562e1f",
   "metadata": {},
   "outputs": [],
   "source": [
    "stoptimes = pd.read_csv('./SEM-GTFS/stop_times.txt')\n",
    "stoptimes = stoptimes.iloc[:,[0,1,2,3,4]]\n",
    "stoptimes.head()"
   ]
  },
  {
   "cell_type": "code",
   "execution_count": null,
   "id": "37453f98",
   "metadata": {},
   "outputs": [],
   "source": [
    "trips = pd.read_csv('./SEM-GTFS/trips.txt')\n",
    "trips = trips.iloc[:,[0,1,2]]\n",
    "trips[\"trip_short_name\"] = trips[\"trip_headsign\"]\n",
    "trips = trips.drop(\"trip_headsign\",axis=1)\n",
    "trips.head()"
   ]
  },
  {
   "cell_type": "code",
   "execution_count": null,
   "id": "4230379f",
   "metadata": {},
   "outputs": [],
   "source": [
    "gtfs = sqlite3.connect('./gtfs_tag.db')"
   ]
  },
  {
   "cell_type": "code",
   "execution_count": null,
   "id": "50a6b7e7",
   "metadata": {},
   "outputs": [],
   "source": [
    "agency.to_sql('agency', con=gtfs, if_exists='append', index=False)"
   ]
  },
  {
   "cell_type": "code",
   "execution_count": null,
   "id": "7d7b7c96",
   "metadata": {},
   "outputs": [],
   "source": [
    "routes.to_sql('routes', con=gtfs, if_exists='append', index=False)"
   ]
  },
  {
   "cell_type": "code",
   "execution_count": null,
   "id": "d406eb31",
   "metadata": {},
   "outputs": [],
   "source": [
    "stops.to_sql('stops', con=gtfs, if_exists='append', index=False)"
   ]
  },
  {
   "cell_type": "code",
   "execution_count": null,
   "id": "dd1c960d",
   "metadata": {},
   "outputs": [],
   "source": [
    "stoptimes.to_sql('stoptimes', con=gtfs, if_exists='append', index=False)"
   ]
  },
  {
   "cell_type": "code",
   "execution_count": null,
   "id": "f85924fb",
   "metadata": {},
   "outputs": [],
   "source": [
    "trips.to_sql('trips', con=gtfs, if_exists='append', index=False)"
   ]
  },
  {
   "cell_type": "code",
   "execution_count": null,
   "id": "526f78d8",
   "metadata": {},
   "outputs": [],
   "source": [
    "gtfs.close()"
   ]
  },
  {
   "cell_type": "markdown",
   "id": "efa6c902",
   "metadata": {},
   "source": [
    "C3.4 - Insertion des données (bulk insert)"
   ]
  },
  {
   "cell_type": "code",
   "execution_count": null,
   "id": "a30abf5b",
   "metadata": {},
   "outputs": [],
   "source": [
    "# bulk insert en python\n",
    "#create dictionnaries from pd from txt\n",
    "# agency_dict = agency.to_dict(orient='list')\n",
    "# routes_dict = routes.to_dict(orient='list')\n",
    "# stops_dict = stops.to_dict(orient='list')\n",
    "# stoptimes_dict = stoptimes.to_dict(orient='list')\n",
    "# trips_dict = trips.to_dict(orient='list')"
   ]
  },
  {
   "cell_type": "code",
   "execution_count": null,
   "id": "7a16d15e",
   "metadata": {},
   "outputs": [],
   "source": [
    "agency_dict = agency.T.reset_index().to_dict(orient='list')\n",
    "routes_dict = routes.T.reset_index().to_dict(orient='list')\n",
    "stops_dict = stops.T.reset_index().to_dict(orient='list')\n",
    "stoptimes_dict = stoptimes.T.reset_index().to_dict(orient='list')\n",
    "trips_dict = trips.T.reset_index().to_dict(orient='list')"
   ]
  },
  {
   "cell_type": "code",
   "execution_count": null,
   "id": "cc75b4f8",
   "metadata": {},
   "outputs": [],
   "source": [
    "agency_dict"
   ]
  },
  {
   "cell_type": "code",
   "execution_count": null,
   "id": "aaff1e85",
   "metadata": {},
   "outputs": [],
   "source": [
    "# sans passé par Pandas\n",
    "# a_dictionary = {}\n",
    "# a_file = open(\"data.txt\")\n",
    "# for line in a_file:\n",
    "#     key, value = line.split()\n",
    "# Split line into a tuple\n",
    "#     a_dictionary[key] = value\n",
    "# Add tuple values to dictionary\n",
    "# print(a_dictionary)"
   ]
  },
  {
   "cell_type": "code",
   "execution_count": null,
   "id": "f9639564",
   "metadata": {},
   "outputs": [],
   "source": [
    "# # return a single query from a dict\n",
    "# def gen_insert_query(table_name:str, a_dict:dict) -> str:\n",
    "#     columns = list(a_dict.keys())\n",
    "#     features = \"\"\n",
    "#     for col in columns:\n",
    "#         features += f\"{col},\"\n",
    "#     features = features[:-1]\n",
    "#     values = \"(\"\n",
    "#     for col in columns:\n",
    "#         values += \"?,\"\n",
    "#     values = values[:-1]\n",
    "#     values += \")\"\n",
    "#     return f'''INSERT INTO {table_name}({features}) VALUES{values}'''"
   ]
  },
  {
   "cell_type": "markdown",
   "id": "2a9f8f75",
   "metadata": {},
   "source": [
    "Étape 3.4.1 - implémenter une fonction qui génère une commande insertion SQL"
   ]
  },
  {
   "cell_type": "code",
   "execution_count": null,
   "id": "3ac2763f",
   "metadata": {},
   "outputs": [],
   "source": [
    "# return a single query from a dict\n",
    "def gen_insert_query(table_name:str, a_dict:dict) -> str:\n",
    "    columns = a_dict['index']\n",
    "    features = \"\"\n",
    "    for col in columns:\n",
    "        features += f\"{col},\"\n",
    "    features = features[:-1]\n",
    "    v=\"\"\n",
    "    for i in a_dict:\n",
    "        if i!='index':\n",
    "            values = \"(\"\n",
    "            for j in range(0,len(a_dict[i])):\n",
    "                if isinstance(a_dict[i][j],str):\n",
    "                    values += \"'\"\n",
    "                    values += f\"{a_dict[i][j]}\"\n",
    "                    values += \"',\"\n",
    "                else:\n",
    "                    values += f\"{a_dict[i][j]},\"\n",
    "            values = values[:-1]\n",
    "            values += \")\"\n",
    "            v+=values\n",
    "            v+=','\n",
    "    v = v[:-1]\n",
    "    return f'''INSERT INTO {table_name}({features}) VALUES {v}'''"
   ]
  },
  {
   "cell_type": "code",
   "execution_count": null,
   "id": "5fee0bd2",
   "metadata": {},
   "outputs": [],
   "source": [
    "gen_insert_query('routes', routes_dict)"
   ]
  },
  {
   "cell_type": "code",
   "execution_count": null,
   "id": "95f18f2e",
   "metadata": {},
   "outputs": [],
   "source": [
    "# on crée un agency_test\n",
    "agency_dict_test={'index':['agency_id','agency_name'], 0:['TKM','Travel Kernel Mobility']}\n",
    "gen_insert_query('agency', agency_dict_test)\n",
    "# ça marche !"
   ]
  },
  {
   "cell_type": "code",
   "execution_count": null,
   "id": "50af7713",
   "metadata": {},
   "outputs": [],
   "source": [
    "gtfs = sqlite3.connect('./gtfs_tag.db')\n",
    "c = gtfs.cursor()\n",
    "c.execute(gen_insert_query('agency', agency_dict_test))\n",
    "gtfs.commit()\n",
    "# ça marche !"
   ]
  },
  {
   "cell_type": "code",
   "execution_count": null,
   "id": "4b4dad2d",
   "metadata": {},
   "outputs": [],
   "source": [
    "gtfs.close()"
   ]
  },
  {
   "cell_type": "markdown",
   "id": "4defdf4d",
   "metadata": {},
   "source": [
    "Étape 3.4.2 - implémenter une fonction qui génère des commandes d’insertion SQL"
   ]
  },
  {
   "cell_type": "code",
   "execution_count": null,
   "id": "2a57252c",
   "metadata": {},
   "outputs": [],
   "source": [
    "# return queries from a df\n",
    "def gen_insert_queries(table_name:str, df: pd.DataFrame) -> list:\n",
    "    return f\"INSERT INTO {table_name}{tuple(df.columns.to_list())} VALUES {','.join(str(i) for i in tuple(zip(*df.to_dict(orient='list').values())))}\""
   ]
  },
  {
   "cell_type": "code",
   "execution_count": null,
   "id": "e557f889",
   "metadata": {},
   "outputs": [],
   "source": [
    "gen_insert_queries('trips', trips)\n",
    "# ça marche !"
   ]
  },
  {
   "cell_type": "markdown",
   "id": "1ed8d941",
   "metadata": {},
   "source": [
    "Étape 3.4.3 - implémenter une procédure qui crée un fichier SQL"
   ]
  },
  {
   "cell_type": "code",
   "execution_count": null,
   "id": "c19d120b",
   "metadata": {},
   "outputs": [],
   "source": [
    "def gen_insert_file(filename, tablename, df):\n",
    "    with open(filename, \"w\") as fichier:\n",
    "        fichier.write(gen_insert_queries(tablename, df))"
   ]
  },
  {
   "cell_type": "code",
   "execution_count": null,
   "id": "e3e67323",
   "metadata": {},
   "outputs": [],
   "source": [
    "gen_insert_file('insert_trips.sql','trips',trips)\n",
    "# ça marche !"
   ]
  },
  {
   "cell_type": "code",
   "execution_count": null,
   "id": "3a98d930",
   "metadata": {},
   "outputs": [],
   "source": [
    "# on recrée un agency_test\n",
    "agency_test=pd.DataFrame(data={\"agency_id\":[\"Data+\"],\"agency_name\":[\"Directional Aerial Transportation Agency Plus\"]})\n",
    "agency_test"
   ]
  },
  {
   "cell_type": "code",
   "execution_count": null,
   "id": "7c2a30a2",
   "metadata": {},
   "outputs": [],
   "source": [
    "gen_insert_file('insert_agency_test.sql','agency', agency_test)"
   ]
  },
  {
   "cell_type": "markdown",
   "id": "7c6e71ab",
   "metadata": {},
   "source": [
    "Étape 3.4.4 – Exécutez votre fichier SQL sur la BDD"
   ]
  },
  {
   "cell_type": "code",
   "execution_count": null,
   "id": "a930f563",
   "metadata": {},
   "outputs": [],
   "source": [
    "gtfs = sqlite3.connect('./gtfs_tag.db')\n",
    "c = gtfs.cursor()\n",
    "with open('insert_agency_test.sql', \"r\") as fichier:  \n",
    "    c.execute(fichier.read())\n",
    "gtfs.commit()\n",
    "gtfs.close()\n",
    "# ça marche !"
   ]
  },
  {
   "attachments": {
    "image.png": {
     "image/png": "[encoded data removed]"
    }
   },
   "cell_type": "markdown",
   "id": "4374af33",
   "metadata": {},
   "source": [
    "C3.5 - Réflexions\n",
    "\n",
    "Vous avez inséré des données avec deux méthodes différentes (pandas, bulk Insert):\n",
    "1. Quelle méthode est plus rapide et facile à implémenter ? <br/> **Pandas**\n",
    "2. Quelle méthode est plus rapide pour insérer l’information ?  <br/> **Pandas**\n",
    "3. Dans quel scénario préconisez-vous l’utilisation d’une méthode ou l’autre ?  <br/> **python pour tester pas à pas, Pandas '.to_sql' + sqlalchemy 'event' + python 'cursor.fast_executemany = True' pour deployer**\n",
    "![image.png](attachment:image.png)"
   ]
  },
  {
   "cell_type": "markdown",
   "id": "c976577a",
   "metadata": {},
   "source": [
    "C3.6 -  (🕹 Bonus) Créer un calculateur d’itinéraire\n",
    "\n",
    "À partir de :\n",
    "\n",
    "• A - Un point GPS de départ, en format tuples de float; <br/> \n",
    "• B – Un point GPS d’arrivée, en format tuples de float; <br/>\n",
    "• H – une heure de part en format datetime; <br/>\n",
    "\n",
    "→ Calculez l’itinéraire des lignes TAG à prendre."
   ]
  },
  {
   "cell_type": "code",
   "execution_count": null,
   "id": "7c3ec504",
   "metadata": {},
   "outputs": [],
   "source": [
    "from pyroutelib3 import Router\n",
    "import folium\n",
    "import webbrowser\n",
    "from datetime import datetime\n",
    "def calculateur_itineraire_ss_changement_plus_court(A,B,H):\n",
    "    router = Router(\"car\")\n",
    "    # find closest stop x from A\n",
    "    \n",
    "    # rajouter A to x à l'itineraire\n",
    "    depart = router.findNode(A[0], A[1])\n",
    "    arrivee = router.findNode(B[0], B[1]) #pour tester\n",
    "#(x[0], x[1])\n",
    "    status, route = router.doRoute(depart, arrivee)\n",
    "    if status == 'success':\n",
    "        routeLatLons = list(map(router.nodeLatLon, route))\n",
    "        \n",
    "    # find closest stop y from B, in route that contains x and y\n",
    "    \n",
    "    # rajouter y to B à l'itineraire\n",
    "\n",
    "    depart = router.findNode(A[0], A[1]) #pour tester\n",
    "#(y[0], y[1])\n",
    "    arrivee = router.findNode(B[0], B[1])\n",
    "    status, route = router.doRoute(depart, arrivee)\n",
    "    if status == 'success':\n",
    "        routeLatLons = list(map(router.nodeLatLon, route))\n",
    "    \n",
    "    # find all stops betwteen x and y via route_ident\n",
    "#   list_stops = []\n",
    "#     for stop in route_ident:\n",
    "#         list_stops.append(x to y)\n",
    "    \n",
    "    # find when next bus pass avec calendar avec H\n",
    "    \n",
    "    # display text (route a: list of stops from x to y)\n",
    "# horaire_next_bus = un DateTime\n",
    "# print(\"L'itinéraire TAG passe par :\", route_ident, list_stops)\n",
    "# print(\"Le prochain bus passera à :\", horaire_next_bus)\n",
    "    \n",
    "    # display stops on map\n",
    "    c= folium.Map(location=[A[0], A[1]],zoom_start=15)\n",
    "    for indice,coord in enumerate(routeLatLons):\n",
    "        if indice%10==0:\n",
    "            coord=list(coord)\n",
    "            folium.Marker(coord).add_to(c)\n",
    "    c.save('maCarte.html')\n",
    "    webbrowser.open('maCarte.html')"
   ]
  },
  {
   "cell_type": "code",
   "execution_count": null,
   "id": "00fb9924",
   "metadata": {},
   "outputs": [],
   "source": [
    "A=(45.18810254439141,5.720416539957304)\n",
    "B=(45.185046370907855,5.731498880680741)\n",
    "H=datetime.now()\n",
    "\n",
    "calculateur_itineraire_ss_changement_plus_court(A,B,H)\n",
    "# ça marche ! (ou pas...)\n"
   ]
  }
 ],
 "metadata": {
  "kernelspec": {
   "display_name": "Python 3 (ipykernel)",
   "language": "python",
   "name": "python3"
  },
  "language_info": {
   "codemirror_mode": {
    "name": "ipython",
    "version": 3
   },
   "file_extension": ".py",
   "mimetype": "text/x-python",
   "name": "python",
   "nbconvert_exporter": "python",
   "pygments_lexer": "ipython3",
   "version": "3.9.7"
  }
 },
 "nbformat": 4,
 "nbformat_minor": 5
}
