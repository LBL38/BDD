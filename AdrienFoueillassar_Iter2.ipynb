{
 "cells": [
  {
   "cell_type": "markdown",
   "id": "4a197038-c531-4ae9-8ee8-91f79aae0e98",
   "metadata": {},
   "source": [
    "# SGBD"
   ]
  },
  {
   "cell_type": "markdown",
   "id": "3aea1c0c-f660-43f8-82bf-16c7cc8c2b8f",
   "metadata": {},
   "source": [
    "## Imports"
   ]
  },
  {
   "cell_type": "code",
   "execution_count": 1,
   "id": "0240995e-9bd8-40cd-b11f-c6a1f70cda5f",
   "metadata": {},
   "outputs": [],
   "source": [
    "import os\n",
    "import sqlite3 as sql\n",
    "import pandas as pd\n",
    "import matplotlib.pyplot as plt\n",
    "\n",
    "from matplotlib import rcParams\n",
    "rcParams['figure.figsize'] = (18, 8)\n",
    "rcParams['axes.grid'] = True\n",
    "rcParams['axes.titleweight'] = 'bold'"
   ]
  },
  {
   "cell_type": "code",
   "execution_count": 2,
   "id": "325946d6-f26e-42b1-966b-25794ea880d7",
   "metadata": {},
   "outputs": [],
   "source": [
    "def connect(src):\n",
    "    con = sql.connect(src)\n",
    "    return con\n",
    "\n",
    "\n",
    "def execute(cursor, string):\n",
    "    res = cursor.execute(string).fetchall()\n",
    "    return sorted(list(zip(*res))[0]) if len(res) else 'PERDU'\n",
    "\n"
   ]
  },
  {
   "cell_type": "markdown",
   "id": "0b8db7bb-5352-4aff-91ad-f78af7fba86e",
   "metadata": {},
   "source": [
    "## Iteration 2"
   ]
  },
  {
   "cell_type": "markdown",
   "id": "1e7e5ee3-abc1-44ba-b608-6b38c76b3ed1",
   "metadata": {},
   "source": [
    "### Lire une BDD"
   ]
  },
  {
   "cell_type": "markdown",
   "id": "acd88650-d980-4c15-a13d-8550f1f206a2",
   "metadata": {},
   "source": [
    "Connection à un BDD SQL avec python:"
   ]
  },
  {
   "cell_type": "markdown",
   "id": "a7e0bfc4-c09d-4900-a804-e1fee54112ab",
   "metadata": {},
   "source": [
    "Récupérer les tables de la BDD:"
   ]
  },
  {
   "cell_type": "code",
   "execution_count": 23,
   "id": "4f39b15a-b9f2-486b-851b-61a9b8d03f13",
   "metadata": {},
   "outputs": [
    {
     "data": {
      "text/plain": [
       "['acoustic_features', 'albums']"
      ]
     },
     "execution_count": 23,
     "metadata": {},
     "output_type": "execute_result"
    }
   ],
   "source": [
    "src = '/home/dataplus/Cozy Drive/CampusNum/BDD/Iteration2/billboard-200.db'\n",
    "con = connect(src)\n",
    "cur = con.cursor()\n",
    "execute(cur, 'SELECT name FROM sqlite_master WHERE type=\"table\";')"
   ]
  },
  {
   "cell_type": "markdown",
   "id": "718c6372-29b1-40c9-8c7b-0d6319663347",
   "metadata": {},
   "source": [
    "Requettes dans la BDD:"
   ]
  },
  {
   "cell_type": "code",
   "execution_count": 17,
   "id": "29c3f3b6-080e-4de1-9121-d12ddc9dee2d",
   "metadata": {},
   "outputs": [],
   "source": [
    "req = 'SELECT artist, album, COUNT(date) as WHala FROM albums WHERE rank=1 and date > 2000 GROUP BY artist, album ORDER BY WHala DESC LIMIT 10'\n",
    "top10 = cur.execute(req).fetchall()"
   ]
  },
  {
   "cell_type": "code",
   "execution_count": 18,
   "id": "3df594a0-d096-4976-bd15-61d4bae67627",
   "metadata": {},
   "outputs": [
    {
     "data": {
      "text/html": [
       "<div>\n",
       "<style scoped>\n",
       "    .dataframe tbody tr th:only-of-type {\n",
       "        vertical-align: middle;\n",
       "    }\n",
       "\n",
       "    .dataframe tbody tr th {\n",
       "        vertical-align: top;\n",
       "    }\n",
       "\n",
       "    .dataframe thead th {\n",
       "        text-align: right;\n",
       "    }\n",
       "</style>\n",
       "<table border=\"1\" class=\"dataframe\">\n",
       "  <thead>\n",
       "    <tr style=\"text-align: right;\">\n",
       "      <th></th>\n",
       "      <th>0</th>\n",
       "      <th>1</th>\n",
       "      <th>2</th>\n",
       "    </tr>\n",
       "  </thead>\n",
       "  <tbody>\n",
       "    <tr>\n",
       "      <th>0</th>\n",
       "      <td>Adele</td>\n",
       "      <td>21</td>\n",
       "      <td>24</td>\n",
       "    </tr>\n",
       "    <tr>\n",
       "      <th>1</th>\n",
       "      <td>Drake</td>\n",
       "      <td>Views</td>\n",
       "      <td>13</td>\n",
       "    </tr>\n",
       "    <tr>\n",
       "      <th>2</th>\n",
       "      <td>Soundtrack</td>\n",
       "      <td>Frozen</td>\n",
       "      <td>13</td>\n",
       "    </tr>\n",
       "    <tr>\n",
       "      <th>3</th>\n",
       "      <td>Taylor Swift</td>\n",
       "      <td>1989</td>\n",
       "      <td>11</td>\n",
       "    </tr>\n",
       "    <tr>\n",
       "      <th>4</th>\n",
       "      <td>Taylor Swift</td>\n",
       "      <td>Fearless</td>\n",
       "      <td>11</td>\n",
       "    </tr>\n",
       "    <tr>\n",
       "      <th>5</th>\n",
       "      <td>Adele</td>\n",
       "      <td>25</td>\n",
       "      <td>10</td>\n",
       "    </tr>\n",
       "    <tr>\n",
       "      <th>6</th>\n",
       "      <td>Santana</td>\n",
       "      <td>Supernatural</td>\n",
       "      <td>9</td>\n",
       "    </tr>\n",
       "    <tr>\n",
       "      <th>7</th>\n",
       "      <td>Usher</td>\n",
       "      <td>Confessions</td>\n",
       "      <td>9</td>\n",
       "    </tr>\n",
       "    <tr>\n",
       "      <th>8</th>\n",
       "      <td>'N Sync</td>\n",
       "      <td>No Strings Attached</td>\n",
       "      <td>8</td>\n",
       "    </tr>\n",
       "    <tr>\n",
       "      <th>9</th>\n",
       "      <td>Creed</td>\n",
       "      <td>Weathered</td>\n",
       "      <td>8</td>\n",
       "    </tr>\n",
       "  </tbody>\n",
       "</table>\n",
       "</div>"
      ],
      "text/plain": [
       "              0                    1   2\n",
       "0         Adele                   21  24\n",
       "1         Drake                Views  13\n",
       "2    Soundtrack               Frozen  13\n",
       "3  Taylor Swift                 1989  11\n",
       "4  Taylor Swift             Fearless  11\n",
       "5         Adele                   25  10\n",
       "6       Santana         Supernatural   9\n",
       "7         Usher          Confessions   9\n",
       "8       'N Sync  No Strings Attached   8\n",
       "9         Creed            Weathered   8"
      ]
     },
     "execution_count": 18,
     "metadata": {},
     "output_type": "execute_result"
    }
   ],
   "source": [
    "pd.DataFrame(top10)"
   ]
  },
  {
   "cell_type": "markdown",
   "id": "fc2b862f-3b7d-4015-ac9c-d40b76e03b6b",
   "metadata": {},
   "source": [
    "Utilisation de la fonction pandas **read_sql**:"
   ]
  },
  {
   "cell_type": "code",
   "execution_count": 19,
   "id": "44d0e833-a994-4208-8848-137e720d9a72",
   "metadata": {},
   "outputs": [
    {
     "data": {
      "text/html": [
       "<div>\n",
       "<style scoped>\n",
       "    .dataframe tbody tr th:only-of-type {\n",
       "        vertical-align: middle;\n",
       "    }\n",
       "\n",
       "    .dataframe tbody tr th {\n",
       "        vertical-align: top;\n",
       "    }\n",
       "\n",
       "    .dataframe thead th {\n",
       "        text-align: right;\n",
       "    }\n",
       "</style>\n",
       "<table border=\"1\" class=\"dataframe\">\n",
       "  <thead>\n",
       "    <tr style=\"text-align: right;\">\n",
       "      <th></th>\n",
       "      <th>artist</th>\n",
       "      <th>album</th>\n",
       "      <th>WHala</th>\n",
       "    </tr>\n",
       "  </thead>\n",
       "  <tbody>\n",
       "    <tr>\n",
       "      <th>0</th>\n",
       "      <td>Adele</td>\n",
       "      <td>21</td>\n",
       "      <td>24</td>\n",
       "    </tr>\n",
       "    <tr>\n",
       "      <th>1</th>\n",
       "      <td>Drake</td>\n",
       "      <td>Views</td>\n",
       "      <td>13</td>\n",
       "    </tr>\n",
       "    <tr>\n",
       "      <th>2</th>\n",
       "      <td>Soundtrack</td>\n",
       "      <td>Frozen</td>\n",
       "      <td>13</td>\n",
       "    </tr>\n",
       "    <tr>\n",
       "      <th>3</th>\n",
       "      <td>Taylor Swift</td>\n",
       "      <td>1989</td>\n",
       "      <td>11</td>\n",
       "    </tr>\n",
       "    <tr>\n",
       "      <th>4</th>\n",
       "      <td>Taylor Swift</td>\n",
       "      <td>Fearless</td>\n",
       "      <td>11</td>\n",
       "    </tr>\n",
       "    <tr>\n",
       "      <th>5</th>\n",
       "      <td>Adele</td>\n",
       "      <td>25</td>\n",
       "      <td>10</td>\n",
       "    </tr>\n",
       "    <tr>\n",
       "      <th>6</th>\n",
       "      <td>Santana</td>\n",
       "      <td>Supernatural</td>\n",
       "      <td>9</td>\n",
       "    </tr>\n",
       "    <tr>\n",
       "      <th>7</th>\n",
       "      <td>Usher</td>\n",
       "      <td>Confessions</td>\n",
       "      <td>9</td>\n",
       "    </tr>\n",
       "    <tr>\n",
       "      <th>8</th>\n",
       "      <td>'N Sync</td>\n",
       "      <td>No Strings Attached</td>\n",
       "      <td>8</td>\n",
       "    </tr>\n",
       "    <tr>\n",
       "      <th>9</th>\n",
       "      <td>Creed</td>\n",
       "      <td>Weathered</td>\n",
       "      <td>8</td>\n",
       "    </tr>\n",
       "  </tbody>\n",
       "</table>\n",
       "</div>"
      ],
      "text/plain": [
       "         artist                album  WHala\n",
       "0         Adele                   21     24\n",
       "1         Drake                Views     13\n",
       "2    Soundtrack               Frozen     13\n",
       "3  Taylor Swift                 1989     11\n",
       "4  Taylor Swift             Fearless     11\n",
       "5         Adele                   25     10\n",
       "6       Santana         Supernatural      9\n",
       "7         Usher          Confessions      9\n",
       "8       'N Sync  No Strings Attached      8\n",
       "9         Creed            Weathered      8"
      ]
     },
     "execution_count": 19,
     "metadata": {},
     "output_type": "execute_result"
    }
   ],
   "source": [
    "pd.read_sql(req, con=connect())"
   ]
  },
  {
   "cell_type": "code",
   "execution_count": 20,
   "id": "d3fc985f-9f2f-4e58-8bbc-39ab65380177",
   "metadata": {},
   "outputs": [],
   "source": [
    "df = pd.read_sql('SELECT * FROM acoustic_features', con=con)"
   ]
  },
  {
   "cell_type": "code",
   "execution_count": 22,
   "id": "9a9a018d-5f2a-4c44-bc15-4e2a5f647c4e",
   "metadata": {},
   "outputs": [
    {
     "data": {
      "text/plain": [
       "Index(['id', 'song', 'album', 'artist', 'acousticness', 'danceability',\n",
       "       'duration_ms', 'energy', 'instrumentalness', 'key', 'liveness',\n",
       "       'loudness', 'mode', 'speechiness', 'tempo', 'time_signature', 'valence',\n",
       "       'album_id', 'date'],\n",
       "      dtype='object')"
      ]
     },
     "execution_count": 22,
     "metadata": {},
     "output_type": "execute_result"
    }
   ],
   "source": [
    "df.columns"
   ]
  },
  {
   "cell_type": "markdown",
   "id": "74d24bfa-b469-4802-a724-a1acd5998040",
   "metadata": {},
   "source": [
    "### Analyse musical du BillBoard200"
   ]
  },
  {
   "cell_type": "markdown",
   "id": "4fdade45-aadd-4901-844e-2bada0f08fc3",
   "metadata": {},
   "source": [
    "Moyennage par années:"
   ]
  },
  {
   "cell_type": "code",
   "execution_count": 67,
   "id": "86f8ff1f-555d-48be-9be7-6770110e12b4",
   "metadata": {},
   "outputs": [],
   "source": [
    "carac = ['acousticness', 'danceability', 'duration_ms', 'energy',\n",
    "         'instrumentalness', 'key', 'liveness', 'loudness', 'mode',\n",
    "         'speechiness', 'tempo', 'date']\n",
    "feat = df[carac].copy()\n",
    "feat['date'] = pd.to_datetime(feat['date'])\n",
    "feat['year'] = feat['date'].apply(lambda x: x.year)"
   ]
  },
  {
   "cell_type": "code",
   "execution_count": 78,
   "id": "e7d3147e-502b-44da-b096-15e4ff7afb03",
   "metadata": {},
   "outputs": [],
   "source": [
    "trend = feat.drop(columns='date').groupby('year').mean()\n",
    "trend = trend[trend.index > 1955]"
   ]
  },
  {
   "cell_type": "code",
   "execution_count": 79,
   "id": "22d18e50-0820-4822-b61d-f758b850465a",
   "metadata": {},
   "outputs": [
    {
     "data": {
      "text/html": [
       "<div>\n",
       "<style scoped>\n",
       "    .dataframe tbody tr th:only-of-type {\n",
       "        vertical-align: middle;\n",
       "    }\n",
       "\n",
       "    .dataframe tbody tr th {\n",
       "        vertical-align: top;\n",
       "    }\n",
       "\n",
       "    .dataframe thead th {\n",
       "        text-align: right;\n",
       "    }\n",
       "</style>\n",
       "<table border=\"1\" class=\"dataframe\">\n",
       "  <thead>\n",
       "    <tr style=\"text-align: right;\">\n",
       "      <th></th>\n",
       "      <th>acousticness</th>\n",
       "      <th>danceability</th>\n",
       "      <th>duration_ms</th>\n",
       "      <th>energy</th>\n",
       "      <th>instrumentalness</th>\n",
       "      <th>key</th>\n",
       "      <th>liveness</th>\n",
       "      <th>loudness</th>\n",
       "      <th>mode</th>\n",
       "      <th>speechiness</th>\n",
       "      <th>tempo</th>\n",
       "    </tr>\n",
       "    <tr>\n",
       "      <th>year</th>\n",
       "      <th></th>\n",
       "      <th></th>\n",
       "      <th></th>\n",
       "      <th></th>\n",
       "      <th></th>\n",
       "      <th></th>\n",
       "      <th></th>\n",
       "      <th></th>\n",
       "      <th></th>\n",
       "      <th></th>\n",
       "      <th></th>\n",
       "    </tr>\n",
       "  </thead>\n",
       "  <tbody>\n",
       "    <tr>\n",
       "      <th>1956</th>\n",
       "      <td>0.883627</td>\n",
       "      <td>0.489405</td>\n",
       "      <td>148841.793651</td>\n",
       "      <td>0.201612</td>\n",
       "      <td>0.140998</td>\n",
       "      <td>4.619048</td>\n",
       "      <td>0.198261</td>\n",
       "      <td>-17.672389</td>\n",
       "      <td>0.761905</td>\n",
       "      <td>0.236720</td>\n",
       "      <td>109.034841</td>\n",
       "    </tr>\n",
       "    <tr>\n",
       "      <th>1957</th>\n",
       "      <td>0.845394</td>\n",
       "      <td>0.409397</td>\n",
       "      <td>171108.439394</td>\n",
       "      <td>0.241626</td>\n",
       "      <td>0.123273</td>\n",
       "      <td>4.712121</td>\n",
       "      <td>0.243202</td>\n",
       "      <td>-16.420303</td>\n",
       "      <td>0.848485</td>\n",
       "      <td>0.095141</td>\n",
       "      <td>109.484470</td>\n",
       "    </tr>\n",
       "    <tr>\n",
       "      <th>1958</th>\n",
       "      <td>0.815065</td>\n",
       "      <td>0.471413</td>\n",
       "      <td>163833.347826</td>\n",
       "      <td>0.395780</td>\n",
       "      <td>0.021688</td>\n",
       "      <td>4.760870</td>\n",
       "      <td>0.200176</td>\n",
       "      <td>-11.756587</td>\n",
       "      <td>0.782609</td>\n",
       "      <td>0.063754</td>\n",
       "      <td>114.730043</td>\n",
       "    </tr>\n",
       "    <tr>\n",
       "      <th>1959</th>\n",
       "      <td>0.816400</td>\n",
       "      <td>0.428183</td>\n",
       "      <td>208464.921739</td>\n",
       "      <td>0.394663</td>\n",
       "      <td>0.040517</td>\n",
       "      <td>5.460870</td>\n",
       "      <td>0.289024</td>\n",
       "      <td>-13.344017</td>\n",
       "      <td>0.808696</td>\n",
       "      <td>0.176430</td>\n",
       "      <td>111.756296</td>\n",
       "    </tr>\n",
       "    <tr>\n",
       "      <th>1960</th>\n",
       "      <td>0.783613</td>\n",
       "      <td>0.497248</td>\n",
       "      <td>178710.834711</td>\n",
       "      <td>0.367413</td>\n",
       "      <td>0.092194</td>\n",
       "      <td>5.471074</td>\n",
       "      <td>0.182090</td>\n",
       "      <td>-13.212231</td>\n",
       "      <td>0.743802</td>\n",
       "      <td>0.075078</td>\n",
       "      <td>112.920339</td>\n",
       "    </tr>\n",
       "    <tr>\n",
       "      <th>...</th>\n",
       "      <td>...</td>\n",
       "      <td>...</td>\n",
       "      <td>...</td>\n",
       "      <td>...</td>\n",
       "      <td>...</td>\n",
       "      <td>...</td>\n",
       "      <td>...</td>\n",
       "      <td>...</td>\n",
       "      <td>...</td>\n",
       "      <td>...</td>\n",
       "      <td>...</td>\n",
       "    </tr>\n",
       "    <tr>\n",
       "      <th>2015</th>\n",
       "      <td>0.266103</td>\n",
       "      <td>0.532740</td>\n",
       "      <td>235340.950129</td>\n",
       "      <td>0.641605</td>\n",
       "      <td>0.115629</td>\n",
       "      <td>5.247882</td>\n",
       "      <td>0.229030</td>\n",
       "      <td>-8.017984</td>\n",
       "      <td>0.674107</td>\n",
       "      <td>0.091737</td>\n",
       "      <td>120.651579</td>\n",
       "    </tr>\n",
       "    <tr>\n",
       "      <th>2016</th>\n",
       "      <td>0.280247</td>\n",
       "      <td>0.539637</td>\n",
       "      <td>233214.295504</td>\n",
       "      <td>0.630402</td>\n",
       "      <td>0.101624</td>\n",
       "      <td>5.213537</td>\n",
       "      <td>0.220787</td>\n",
       "      <td>-7.955032</td>\n",
       "      <td>0.675511</td>\n",
       "      <td>0.095675</td>\n",
       "      <td>120.656077</td>\n",
       "    </tr>\n",
       "    <tr>\n",
       "      <th>2017</th>\n",
       "      <td>0.275792</td>\n",
       "      <td>0.551348</td>\n",
       "      <td>223948.277797</td>\n",
       "      <td>0.630018</td>\n",
       "      <td>0.107876</td>\n",
       "      <td>5.180572</td>\n",
       "      <td>0.217876</td>\n",
       "      <td>-7.919609</td>\n",
       "      <td>0.658986</td>\n",
       "      <td>0.099882</td>\n",
       "      <td>120.301062</td>\n",
       "    </tr>\n",
       "    <tr>\n",
       "      <th>2018</th>\n",
       "      <td>0.282429</td>\n",
       "      <td>0.563352</td>\n",
       "      <td>220295.845046</td>\n",
       "      <td>0.615754</td>\n",
       "      <td>0.114322</td>\n",
       "      <td>5.218936</td>\n",
       "      <td>0.218786</td>\n",
       "      <td>-8.177894</td>\n",
       "      <td>0.654048</td>\n",
       "      <td>0.111540</td>\n",
       "      <td>121.613524</td>\n",
       "    </tr>\n",
       "    <tr>\n",
       "      <th>2019</th>\n",
       "      <td>0.401228</td>\n",
       "      <td>0.539803</td>\n",
       "      <td>220081.245675</td>\n",
       "      <td>0.539731</td>\n",
       "      <td>0.162793</td>\n",
       "      <td>4.991349</td>\n",
       "      <td>0.238583</td>\n",
       "      <td>-10.703602</td>\n",
       "      <td>0.694637</td>\n",
       "      <td>0.106815</td>\n",
       "      <td>119.330862</td>\n",
       "    </tr>\n",
       "  </tbody>\n",
       "</table>\n",
       "<p>64 rows × 11 columns</p>\n",
       "</div>"
      ],
      "text/plain": [
       "      acousticness  danceability    duration_ms    energy  instrumentalness  \\\n",
       "year                                                                          \n",
       "1956      0.883627      0.489405  148841.793651  0.201612          0.140998   \n",
       "1957      0.845394      0.409397  171108.439394  0.241626          0.123273   \n",
       "1958      0.815065      0.471413  163833.347826  0.395780          0.021688   \n",
       "1959      0.816400      0.428183  208464.921739  0.394663          0.040517   \n",
       "1960      0.783613      0.497248  178710.834711  0.367413          0.092194   \n",
       "...            ...           ...            ...       ...               ...   \n",
       "2015      0.266103      0.532740  235340.950129  0.641605          0.115629   \n",
       "2016      0.280247      0.539637  233214.295504  0.630402          0.101624   \n",
       "2017      0.275792      0.551348  223948.277797  0.630018          0.107876   \n",
       "2018      0.282429      0.563352  220295.845046  0.615754          0.114322   \n",
       "2019      0.401228      0.539803  220081.245675  0.539731          0.162793   \n",
       "\n",
       "           key  liveness   loudness      mode  speechiness       tempo  \n",
       "year                                                                    \n",
       "1956  4.619048  0.198261 -17.672389  0.761905     0.236720  109.034841  \n",
       "1957  4.712121  0.243202 -16.420303  0.848485     0.095141  109.484470  \n",
       "1958  4.760870  0.200176 -11.756587  0.782609     0.063754  114.730043  \n",
       "1959  5.460870  0.289024 -13.344017  0.808696     0.176430  111.756296  \n",
       "1960  5.471074  0.182090 -13.212231  0.743802     0.075078  112.920339  \n",
       "...        ...       ...        ...       ...          ...         ...  \n",
       "2015  5.247882  0.229030  -8.017984  0.674107     0.091737  120.651579  \n",
       "2016  5.213537  0.220787  -7.955032  0.675511     0.095675  120.656077  \n",
       "2017  5.180572  0.217876  -7.919609  0.658986     0.099882  120.301062  \n",
       "2018  5.218936  0.218786  -8.177894  0.654048     0.111540  121.613524  \n",
       "2019  4.991349  0.238583 -10.703602  0.694637     0.106815  119.330862  \n",
       "\n",
       "[64 rows x 11 columns]"
      ]
     },
     "execution_count": 79,
     "metadata": {},
     "output_type": "execute_result"
    }
   ],
   "source": [
    "trend"
   ]
  },
  {
   "cell_type": "markdown",
   "id": "e7a06201-f7a8-46df-8a12-72b008b731d5",
   "metadata": {},
   "source": [
    "Courbes de tendences:"
   ]
  },
  {
   "cell_type": "code",
   "execution_count": 80,
   "id": "3b36a01e-9620-4fc3-a664-d09b77607505",
   "metadata": {},
   "outputs": [
    {
     "data": {
      "image/png": "[encoded data removed]",
      "text/plain": [
       "<Figure size 1296x576 with 12 Axes>"
      ]
     },
     "metadata": {
      "needs_background": "light"
     },
     "output_type": "display_data"
    }
   ],
   "source": [
    "plt.subplots(3, 4, sharex=True)\n",
    "for i, c in enumerate(trend.columns):\n",
    "    plt.subplot(3, 4, i+1)\n",
    "    plt.plot(trend[c])\n",
    "    plt.title(c)\n",
    "plt.tight_layout()\n"
   ]
  },
  {
   "cell_type": "markdown",
   "id": "478fda87-e6be-4d53-934b-f719281e6d71",
   "metadata": {},
   "source": [
    "Pics de caracéristiques:"
   ]
  },
  {
   "cell_type": "code",
   "execution_count": 81,
   "id": "7e827530-448d-42fe-981c-b97bb29cd2ec",
   "metadata": {},
   "outputs": [
    {
     "data": {
      "text/plain": [
       "acousticness        1956\n",
       "danceability        1999\n",
       "duration_ms         1976\n",
       "energy              2010\n",
       "instrumentalness    2019\n",
       "key                 1960\n",
       "liveness            1961\n",
       "loudness            2010\n",
       "mode                1957\n",
       "speechiness         1956\n",
       "tempo               1980\n",
       "dtype: int64"
      ]
     },
     "execution_count": 81,
     "metadata": {},
     "output_type": "execute_result"
    }
   ],
   "source": [
    "trend.idxmax()"
   ]
  },
  {
   "cell_type": "markdown",
   "id": "686e4415-fb8b-4d3e-a610-0099e9cd8449",
   "metadata": {},
   "source": [
    "Notes les plus utilisé:"
   ]
  },
  {
   "cell_type": "code",
   "execution_count": 167,
   "id": "78f5d175-915a-43ee-beb7-91c5d1bc4d45",
   "metadata": {},
   "outputs": [],
   "source": [
    "key = feat[['mode', 'key', 'year', 'tempo']].groupby(['year', 'mode', 'key']).count().reset_index('year').groupby('year').idxmax()\n",
    "key.rename(columns={'tempo': 'pitch'}, inplace=True)\n",
    "key['count'] = feat[['mode', 'key', 'year', 'tempo']].groupby(['year', 'mode', 'key']).count().reset_index('year').groupby('year').max()\n",
    "\n",
    "note = {0:'C', 1:'C#', 2:'D', 3:'D#', 4:'E', 5:'F', 6:'F#', 7:'G', 8:'G#', 9:'A', 10:'A#', 11:'B'}\n",
    "tone = {0: 'm', 1: 'M'}\n",
    "\n",
    "key['pitch'] = key['pitch'].apply(lambda x: str(tone[x[0]]) + ' ' + str(note[x[1]]))"
   ]
  },
  {
   "cell_type": "code",
   "execution_count": 168,
   "id": "3ae00ded-1b6b-48fc-a4ed-d4dc7bc3063c",
   "metadata": {},
   "outputs": [
    {
     "data": {
      "text/html": [
       "<div>\n",
       "<style scoped>\n",
       "    .dataframe tbody tr th:only-of-type {\n",
       "        vertical-align: middle;\n",
       "    }\n",
       "\n",
       "    .dataframe tbody tr th {\n",
       "        vertical-align: top;\n",
       "    }\n",
       "\n",
       "    .dataframe thead th {\n",
       "        text-align: right;\n",
       "    }\n",
       "</style>\n",
       "<table border=\"1\" class=\"dataframe\">\n",
       "  <thead>\n",
       "    <tr style=\"text-align: right;\">\n",
       "      <th></th>\n",
       "      <th>acousticness</th>\n",
       "      <th>danceability</th>\n",
       "      <th>duration_ms</th>\n",
       "      <th>energy</th>\n",
       "      <th>instrumentalness</th>\n",
       "      <th>key</th>\n",
       "      <th>liveness</th>\n",
       "      <th>loudness</th>\n",
       "      <th>mode</th>\n",
       "      <th>speechiness</th>\n",
       "      <th>tempo</th>\n",
       "      <th>date</th>\n",
       "      <th>year</th>\n",
       "    </tr>\n",
       "  </thead>\n",
       "  <tbody>\n",
       "    <tr>\n",
       "      <th>0</th>\n",
       "      <td>0.0555</td>\n",
       "      <td>0.754</td>\n",
       "      <td>142301.0</td>\n",
       "      <td>0.663</td>\n",
       "      <td>0.000000</td>\n",
       "      <td>6.0</td>\n",
       "      <td>0.101</td>\n",
       "      <td>-6.311</td>\n",
       "      <td>0.0</td>\n",
       "      <td>0.4270</td>\n",
       "      <td>90.195</td>\n",
       "      <td>2018-12-21</td>\n",
       "      <td>2018</td>\n",
       "    </tr>\n",
       "    <tr>\n",
       "      <th>1</th>\n",
       "      <td>0.2920</td>\n",
       "      <td>0.860</td>\n",
       "      <td>152829.0</td>\n",
       "      <td>0.418</td>\n",
       "      <td>0.000000</td>\n",
       "      <td>7.0</td>\n",
       "      <td>0.106</td>\n",
       "      <td>-9.061</td>\n",
       "      <td>0.0</td>\n",
       "      <td>0.1580</td>\n",
       "      <td>126.023</td>\n",
       "      <td>2018-12-21</td>\n",
       "      <td>2018</td>\n",
       "    </tr>\n",
       "    <tr>\n",
       "      <th>2</th>\n",
       "      <td>0.1530</td>\n",
       "      <td>0.718</td>\n",
       "      <td>215305.0</td>\n",
       "      <td>0.454</td>\n",
       "      <td>0.000046</td>\n",
       "      <td>8.0</td>\n",
       "      <td>0.116</td>\n",
       "      <td>-9.012</td>\n",
       "      <td>1.0</td>\n",
       "      <td>0.1270</td>\n",
       "      <td>89.483</td>\n",
       "      <td>2018-12-21</td>\n",
       "      <td>2018</td>\n",
       "    </tr>\n",
       "    <tr>\n",
       "      <th>3</th>\n",
       "      <td>0.0153</td>\n",
       "      <td>0.581</td>\n",
       "      <td>189487.0</td>\n",
       "      <td>0.662</td>\n",
       "      <td>0.000000</td>\n",
       "      <td>9.0</td>\n",
       "      <td>0.111</td>\n",
       "      <td>-5.239</td>\n",
       "      <td>1.0</td>\n",
       "      <td>0.3030</td>\n",
       "      <td>93.023</td>\n",
       "      <td>2018-12-21</td>\n",
       "      <td>2018</td>\n",
       "    </tr>\n",
       "    <tr>\n",
       "      <th>4</th>\n",
       "      <td>0.0235</td>\n",
       "      <td>0.736</td>\n",
       "      <td>192779.0</td>\n",
       "      <td>0.622</td>\n",
       "      <td>0.000000</td>\n",
       "      <td>6.0</td>\n",
       "      <td>0.151</td>\n",
       "      <td>-4.653</td>\n",
       "      <td>0.0</td>\n",
       "      <td>0.1330</td>\n",
       "      <td>191.971</td>\n",
       "      <td>2018-12-21</td>\n",
       "      <td>2018</td>\n",
       "    </tr>\n",
       "    <tr>\n",
       "      <th>...</th>\n",
       "      <td>...</td>\n",
       "      <td>...</td>\n",
       "      <td>...</td>\n",
       "      <td>...</td>\n",
       "      <td>...</td>\n",
       "      <td>...</td>\n",
       "      <td>...</td>\n",
       "      <td>...</td>\n",
       "      <td>...</td>\n",
       "      <td>...</td>\n",
       "      <td>...</td>\n",
       "      <td>...</td>\n",
       "      <td>...</td>\n",
       "    </tr>\n",
       "    <tr>\n",
       "      <th>339850</th>\n",
       "      <td>0.6550</td>\n",
       "      <td>0.445</td>\n",
       "      <td>434427.0</td>\n",
       "      <td>0.544</td>\n",
       "      <td>0.000325</td>\n",
       "      <td>8.0</td>\n",
       "      <td>0.235</td>\n",
       "      <td>-11.662</td>\n",
       "      <td>1.0</td>\n",
       "      <td>0.0792</td>\n",
       "      <td>176.723</td>\n",
       "      <td>1963-01-01</td>\n",
       "      <td>1963</td>\n",
       "    </tr>\n",
       "    <tr>\n",
       "      <th>339851</th>\n",
       "      <td>0.8350</td>\n",
       "      <td>0.600</td>\n",
       "      <td>375533.0</td>\n",
       "      <td>0.172</td>\n",
       "      <td>0.865000</td>\n",
       "      <td>8.0</td>\n",
       "      <td>0.421</td>\n",
       "      <td>-22.897</td>\n",
       "      <td>1.0</td>\n",
       "      <td>0.0672</td>\n",
       "      <td>135.005</td>\n",
       "      <td>1963-01-01</td>\n",
       "      <td>1963</td>\n",
       "    </tr>\n",
       "    <tr>\n",
       "      <th>339852</th>\n",
       "      <td>0.1920</td>\n",
       "      <td>0.459</td>\n",
       "      <td>861933.0</td>\n",
       "      <td>0.606</td>\n",
       "      <td>0.612000</td>\n",
       "      <td>10.0</td>\n",
       "      <td>0.398</td>\n",
       "      <td>-13.427</td>\n",
       "      <td>0.0</td>\n",
       "      <td>0.0645</td>\n",
       "      <td>116.325</td>\n",
       "      <td>1963-01-01</td>\n",
       "      <td>1963</td>\n",
       "    </tr>\n",
       "    <tr>\n",
       "      <th>339853</th>\n",
       "      <td>0.5220</td>\n",
       "      <td>0.444</td>\n",
       "      <td>761573.0</td>\n",
       "      <td>0.508</td>\n",
       "      <td>0.025000</td>\n",
       "      <td>10.0</td>\n",
       "      <td>0.929</td>\n",
       "      <td>-11.111</td>\n",
       "      <td>1.0</td>\n",
       "      <td>0.0526</td>\n",
       "      <td>62.879</td>\n",
       "      <td>1963-01-01</td>\n",
       "      <td>1963</td>\n",
       "    </tr>\n",
       "    <tr>\n",
       "      <th>339854</th>\n",
       "      <td>0.6040</td>\n",
       "      <td>0.522</td>\n",
       "      <td>436533.0</td>\n",
       "      <td>0.600</td>\n",
       "      <td>0.015500</td>\n",
       "      <td>10.0</td>\n",
       "      <td>0.913</td>\n",
       "      <td>-11.676</td>\n",
       "      <td>0.0</td>\n",
       "      <td>0.0643</td>\n",
       "      <td>115.160</td>\n",
       "      <td>1963-01-01</td>\n",
       "      <td>1963</td>\n",
       "    </tr>\n",
       "  </tbody>\n",
       "</table>\n",
       "<p>339855 rows × 13 columns</p>\n",
       "</div>"
      ],
      "text/plain": [
       "        acousticness  danceability  duration_ms  energy  instrumentalness  \\\n",
       "0             0.0555         0.754     142301.0   0.663          0.000000   \n",
       "1             0.2920         0.860     152829.0   0.418          0.000000   \n",
       "2             0.1530         0.718     215305.0   0.454          0.000046   \n",
       "3             0.0153         0.581     189487.0   0.662          0.000000   \n",
       "4             0.0235         0.736     192779.0   0.622          0.000000   \n",
       "...              ...           ...          ...     ...               ...   \n",
       "339850        0.6550         0.445     434427.0   0.544          0.000325   \n",
       "339851        0.8350         0.600     375533.0   0.172          0.865000   \n",
       "339852        0.1920         0.459     861933.0   0.606          0.612000   \n",
       "339853        0.5220         0.444     761573.0   0.508          0.025000   \n",
       "339854        0.6040         0.522     436533.0   0.600          0.015500   \n",
       "\n",
       "         key  liveness  loudness  mode  speechiness    tempo       date  year  \n",
       "0        6.0     0.101    -6.311   0.0       0.4270   90.195 2018-12-21  2018  \n",
       "1        7.0     0.106    -9.061   0.0       0.1580  126.023 2018-12-21  2018  \n",
       "2        8.0     0.116    -9.012   1.0       0.1270   89.483 2018-12-21  2018  \n",
       "3        9.0     0.111    -5.239   1.0       0.3030   93.023 2018-12-21  2018  \n",
       "4        6.0     0.151    -4.653   0.0       0.1330  191.971 2018-12-21  2018  \n",
       "...      ...       ...       ...   ...          ...      ...        ...   ...  \n",
       "339850   8.0     0.235   -11.662   1.0       0.0792  176.723 1963-01-01  1963  \n",
       "339851   8.0     0.421   -22.897   1.0       0.0672  135.005 1963-01-01  1963  \n",
       "339852  10.0     0.398   -13.427   0.0       0.0645  116.325 1963-01-01  1963  \n",
       "339853  10.0     0.929   -11.111   1.0       0.0526   62.879 1963-01-01  1963  \n",
       "339854  10.0     0.913   -11.676   0.0       0.0643  115.160 1963-01-01  1963  \n",
       "\n",
       "[339855 rows x 13 columns]"
      ]
     },
     "execution_count": 168,
     "metadata": {},
     "output_type": "execute_result"
    }
   ],
   "source": [
    "feat"
   ]
  },
  {
   "cell_type": "code",
   "execution_count": 169,
   "id": "4b0a3ca3-0be0-44a6-94dc-b7fdda5dcdc1",
   "metadata": {},
   "outputs": [],
   "source": [
    "c = dict(zip(key['pitch'].unique(), ['#1f77b4', '#ff7f0e', '#2ca02c', '#d62728', '#9467bd', '#8c564b', '#e377c2', '#7f7f7f']))\n",
    "key['total'] = feat[['date', 'year']].groupby('year').count()\n",
    "key['percent'] = key['count'] / key['total'] * 100\n",
    "key['color'] = key['pitch'].apply(lambda x: c[x])"
   ]
  },
  {
   "cell_type": "code",
   "execution_count": 195,
   "id": "6b0b42ce-edfb-4f94-b14a-5eb13b56fb93",
   "metadata": {},
   "outputs": [
    {
     "data": {
      "text/plain": [
       "<matplotlib.legend.Legend at 0x7f049526ce80>"
      ]
     },
     "execution_count": 195,
     "metadata": {},
     "output_type": "execute_result"
    },
    {
     "data": {
      "image/png": "[encoded data removed]",
      "text/plain": [
       "<Figure size 1296x576 with 1 Axes>"
      ]
     },
     "metadata": {
      "needs_background": "light"
     },
     "output_type": "display_data"
    }
   ],
   "source": [
    "h = plt.bar(x=key.loc[1956:, 'percent'].index,\n",
    "        height=key.loc[1956:, 'percent'].values,\n",
    "        color=key.loc[1956:, 'color'])\n",
    "# for y in key.loc[1956:, 'percent'].index:\n",
    "#     plt.annotate(key.loc[y, 'pitch'], xy=(y-.5, key.loc[y, 'percent']+.5), rotation=60, fontweight='bold')\n",
    "plt.xlabel('Years')\n",
    "plt.ylabel('Percent of all pitch (%)')\n",
    "plt.title('Most used pitch since 1956')\n",
    "lst = [2, 3, 4, 6, 22]\n",
    "plt.legend([h[i] for i in lst], [key.loc[1956+i, 'pitch'] for i in lst])"
   ]
  },
  {
   "cell_type": "markdown",
   "id": "81521bb7-0591-4791-871d-6e6096b122b5",
   "metadata": {},
   "source": [
    "## Iteration 3"
   ]
  },
  {
   "cell_type": "markdown",
   "id": "af6ccc5c-f4a4-4b99-b943-f1fdc3bf92f1",
   "metadata": {},
   "source": [
    "### Modifier une BDD"
   ]
  },
  {
   "cell_type": "markdown",
   "id": "5aa6a4f7-3761-4703-994f-5578519d0760",
   "metadata": {},
   "source": [
    "Insérer des donnée dans une BDD avec Pandas:"
   ]
  },
  {
   "cell_type": "code",
   "execution_count": 3,
   "id": "8e29688d-c09e-4827-9ce2-ed1725c6e38b",
   "metadata": {},
   "outputs": [],
   "source": [
    "src = '/home/dataplus/Cozy Drive/CampusNum/BDD/Iteration3'"
   ]
  },
  {
   "cell_type": "markdown",
   "id": "5a91f734-a593-4e21-a59a-65af304db52f",
   "metadata": {},
   "source": [
    "Lire les fichiers:"
   ]
  },
  {
   "cell_type": "code",
   "execution_count": 4,
   "id": "bca0d2d4-51e0-4920-85a3-9f6e7c593ac6",
   "metadata": {},
   "outputs": [],
   "source": [
    "files = os.listdir(src + '/SEM-GTFS')\n",
    "dfs = []\n",
    "for f in files:\n",
    "    dfs.append(pd.read_csv(src + '/SEM-GTFS/' + f))"
   ]
  },
  {
   "cell_type": "markdown",
   "id": "487c1845-76c2-4e90-b6f2-c5d3f771c7d9",
   "metadata": {},
   "source": [
    "Ecrire:"
   ]
  },
  {
   "cell_type": "code",
   "execution_count": 5,
   "id": "79d9d877-30ba-4aa7-8a4d-986a3fce3f3b",
   "metadata": {},
   "outputs": [],
   "source": [
    "con = connect(src + '/TAG_sql_pandas')\n",
    "\n",
    "for i, table in enumerate(files):\n",
    "    dfs[i].to_sql(table.split('.')[0], con, if_exists='replace')\n",
    "con.close()"
   ]
  },
  {
   "cell_type": "markdown",
   "id": "218f7edc-6866-426b-aef1-471b0bc8c970",
   "metadata": {},
   "source": [
    "Faire la même chose en utilisant **sqlite3**"
   ]
  },
  {
   "cell_type": "code",
   "execution_count": 29,
   "id": "68fe1394-75bd-47c2-8f6e-516d2abe147a",
   "metadata": {},
   "outputs": [],
   "source": [
    "def genInsertQuery(tableName, dct):\n",
    "    columns = ', '.join(str(x) for x in dct.keys())\n",
    "    values = ', '.join('\"' + str(x) + '\"' for x in dct.values())\n",
    "    query = 'INSERT INTO %s ( %s ) VALUES ( %s );' % (tableName, columns, values)\n",
    "    return query\n",
    "\n",
    "\n",
    "def genInsertQueries(tableName, df):\n",
    "    queries = []\n",
    "    lst = df.to_dict(orient='records')\n",
    "\n",
    "    for item in lst:\n",
    "        queries.append(genInsertQuery(tableName, item))\n",
    "\n",
    "    return queries\n",
    "\n",
    "\n",
    "def genInsertFile(tableName, df):\n",
    "    sqlFile = []\n",
    "    dct = {'object': 'VARCHAR(255)',\n",
    "           'float64': 'FLOAT',\n",
    "           'int64': 'INT'}\n",
    "\n",
    "    types = [list(df.columns)]\n",
    "    types.append([dct[str(t)] for t in df.dtypes])\n",
    "\n",
    "    columns = ', '.join(types[0][i] + ' ' + types[1][i] for i in range(len(types[0])))\n",
    "    sqlFile.append(f'CREATE TABLE {tableName} ({columns})')\n",
    "    sqlFile.extend(genInsertQueries(tableName, df))\n",
    "    # sqlFile.append('COMMIT')\n",
    "\n",
    "    return sqlFile\n",
    "\n"
   ]
  },
  {
   "cell_type": "code",
   "execution_count": 36,
   "id": "92d83951-1404-40e7-9a1e-ea8977785153",
   "metadata": {},
   "outputs": [],
   "source": [
    "con = connect(src + '/TAG_sql_sqlite3')\n",
    "cur = con.cursor()\n",
    "\n",
    "for i, df in enumerate(dfs):\n",
    "    queries = genInsertFile(files[i].split('.')[0], df)\n",
    "    for q in queries:\n",
    "        cur.execute(q)\n",
    "\n",
    "con.commit()\n",
    "con.close()"
   ]
  },
  {
   "cell_type": "code",
   "execution_count": null,
   "id": "07affd7b-cba9-4d1f-b378-3234b312ad74",
   "metadata": {},
   "outputs": [],
   "source": []
  },
  {
   "cell_type": "code",
   "execution_count": null,
   "id": "e7e4e530-dd74-4d98-bb8c-cd12ce9d8633",
   "metadata": {},
   "outputs": [],
   "source": []
  },
  {
   "cell_type": "code",
   "execution_count": null,
   "id": "bfe442e3-f026-43e5-9fcd-d37adceed716",
   "metadata": {},
   "outputs": [],
   "source": []
  }
 ],
 "metadata": {
  "kernelspec": {
   "display_name": "Python 3 (ipykernel)",
   "language": "python",
   "name": "python3"
  },
  "language_info": {
   "codemirror_mode": {
    "name": "ipython",
    "version": 3
   },
   "file_extension": ".py",
   "mimetype": "text/x-python",
   "name": "python",
   "nbconvert_exporter": "python",
   "pygments_lexer": "ipython3",
   "version": "3.9.7"
  }
 },
 "nbformat": 4,
 "nbformat_minor": 5
}
