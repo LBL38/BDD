{
 "cells": [
  {
   "cell_type": "code",
   "execution_count": null,
   "id": "d0b3dc53-ac83-45b1-9c36-77251313cb24",
   "metadata": {},
   "outputs": [],
   "source": [
    "import sqlite3\n",
    "import re\n",
    "import pandas as pd\n",
    "import sqlite3"
   ]
  },
  {
   "cell_type": "code",
   "execution_count": null,
   "id": "d4df9332-17a2-4400-86d1-f15dd4331f80",
   "metadata": {
    "tags": []
   },
   "outputs": [],
   "source": [
    "data = pd.read_csv('SEM-GTFS/trips.txt')\n",
    "data.head()"
   ]
  },
  {
   "cell_type": "code",
   "execution_count": null,
   "id": "c02a189f-e954-48da-8360-d30a6b80b430",
   "metadata": {
    "tags": []
   },
   "outputs": [],
   "source": [
    "datadict = data.to_dict(orient = 'list')"
   ]
  },
  {
   "cell_type": "code",
   "execution_count": null,
   "id": "66940d9a-a356-4c20-be44-9f759e795d90",
   "metadata": {
    "jupyter": {
     "outputs_hidden": true
    },
    "tags": []
   },
   "outputs": [],
   "source": [
    "datadict.items()\n",
    "\n"
   ]
  },
  {
   "cell_type": "code",
   "execution_count": null,
   "id": "4ea706a0-c175-4d00-bb9d-8d7d3237d8be",
   "metadata": {},
   "outputs": [],
   "source": [
    "def gen_insert_query(table_name:str, a_dict:dict) -> str:\n",
    "    query = f'INSERT INTO {a_dict.keys()} VALUES {a_dict.values()}'\n",
    "    return query"
   ]
  },
  {
   "cell_type": "code",
   "execution_count": null,
   "id": "90741316-a7df-429a-81cf-4c9eafaabd09",
   "metadata": {},
   "outputs": [],
   "source": [
    "gen_insert_query"
   ]
  },
  {
   "cell_type": "code",
   "execution_count": null,
   "id": "924030b7-3b90-44a9-bbc0-429813d9336d",
   "metadata": {},
   "outputs": [],
   "source": [
    "def get_insert_queries(tablename:str, df: pd.DataFrame) -> list:\n",
    "    dico = df.to_dict(orient = 'list')\n",
    "    queries = gen_insert_query(tablename,dico)\n",
    "    return queries"
   ]
  },
  {
   "cell_type": "code",
   "execution_count": null,
   "id": "e73d6d0a-82bb-4795-af7b-1ca3d07cc5f9",
   "metadata": {
    "tags": []
   },
   "outputs": [],
   "source": [
    "get_insert_queries('trips',data)"
   ]
  },
  {
   "cell_type": "code",
   "execution_count": null,
   "id": "84ce8ea6-d440-415b-9e8b-59b69ee2af9e",
   "metadata": {},
   "outputs": [],
   "source": [
    "connection = sqlite3.connect('test.db')\n",
    "c = connection.cursor()"
   ]
  },
  {
   "cell_type": "code",
   "execution_count": null,
   "id": "5547398d-044d-43b3-9f4b-c2a2e2319952",
   "metadata": {},
   "outputs": [],
   "source": [
    "c.execute(get_insert_queries('trips',data))"
   ]
  },
  {
   "cell_type": "code",
   "execution_count": null,
   "id": "82cf9953-7a44-468e-88bd-4e7ea24d26bd",
   "metadata": {},
   "outputs": [],
   "source": [
    "# q = get_insert_queries('trips',trips)\n",
    "# for i in q:\n",
    "#     c.execute(i)\n",
    "# for row in c.execute('''SELECT * FROM trips '''):\n",
    "#     print(row)"
   ]
  },
  {
   "cell_type": "code",
   "execution_count": null,
   "id": "69c8b17f-649c-4a3b-b95d-81565079e763",
   "metadata": {},
   "outputs": [],
   "source": [
    "q[0]\n"
   ]
  }
 ],
 "metadata": {
  "kernelspec": {
   "display_name": "Python 3 (ipykernel)",
   "language": "python",
   "name": "python3"
  },
  "language_info": {
   "codemirror_mode": {
    "name": "ipython",
    "version": 3
   },
   "file_extension": ".py",
   "mimetype": "text/x-python",
   "name": "python",
   "nbconvert_exporter": "python",
   "pygments_lexer": "ipython3",
   "version": "3.9.7"
  },
  "toc": {
   "base_numbering": 1,
   "nav_menu": {},
   "number_sections": true,
   "sideBar": true,
   "skip_h1_title": false,
   "title_cell": "Table of Contents",
   "title_sidebar": "Contents",
   "toc_cell": false,
   "toc_position": {},
   "toc_section_display": true,
   "toc_window_display": false
  }
 },
 "nbformat": 4,
 "nbformat_minor": 5
}
