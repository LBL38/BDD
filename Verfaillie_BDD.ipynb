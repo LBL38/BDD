{
 "cells": [
  {
   "cell_type": "code",
   "execution_count": null,
   "id": "e9120918",
   "metadata": {},
   "outputs": [],
   "source": [
    "from IPython.core.display import display, HTML\n",
    "display(HTML(\"<style>.container { width:90% !important; }</style>\"))\n",
    "display(HTML(\"<style>.output_result { max-width:80% !important; }</style>\"))"
   ]
  },
  {
   "cell_type": "code",
   "execution_count": null,
   "id": "e20a9245",
   "metadata": {},
   "outputs": [],
   "source": [
    "import sqlite3\n",
    "import pandas as pd"
   ]
  },
  {
   "cell_type": "code",
   "execution_count": null,
   "id": "7f004eb7",
   "metadata": {},
   "outputs": [],
   "source": [
    "def bdd_connect(bdd_path):\n",
    "    connection=sqlite3.connect(bdd_path)\n",
    "    return connection\n",
    "\n",
    "def bdd_req(connect,requete):\n",
    "    c = connect.cursor()\n",
    "    req=c.execute(requete)\n",
    "    return req\n",
    "\n",
    "def bdd_res(requete):\n",
    "    for row in requete:\n",
    "        print(row)"
   ]
  },
  {
   "cell_type": "code",
   "execution_count": null,
   "id": "7ae7ed13",
   "metadata": {},
   "outputs": [],
   "source": [
    "df_agency=pd.read_csv(\"./SEM-GTFS/agency.txt\")\n",
    "df_stop=pd.read_csv(\"./SEM-GTFS/stops.txt\")"
   ]
  },
  {
   "cell_type": "code",
   "execution_count": null,
   "id": "e36d5314",
   "metadata": {},
   "outputs": [],
   "source": [
    "conn=bdd_connect(\"bdd_tag.db\")\n",
    "c=conn.cursor()"
   ]
  },
  {
   "cell_type": "markdown",
   "id": "0d7a1333",
   "metadata": {},
   "source": [
    "# Insertion via pandas"
   ]
  },
  {
   "cell_type": "code",
   "execution_count": null,
   "id": "b5c3afcd",
   "metadata": {},
   "outputs": [],
   "source": [
    "df_agency.to_sql('agency', conn, if_exists='replace', index = False)"
   ]
  },
  {
   "cell_type": "code",
   "execution_count": null,
   "id": "618da9ae",
   "metadata": {},
   "outputs": [],
   "source": [
    "df_stop.to_sql('stops', conn, if_exists='replace', index = False)"
   ]
  },
  {
   "cell_type": "markdown",
   "id": "123dde15",
   "metadata": {},
   "source": [
    "# Insertion des données (bulk insert)"
   ]
  },
  {
   "cell_type": "markdown",
   "id": "9bec1070",
   "metadata": {},
   "source": [
    "## insertion agency (bulk insert)"
   ]
  },
  {
   "cell_type": "code",
   "execution_count": null,
   "id": "9c31f99f",
   "metadata": {},
   "outputs": [],
   "source": [
    "conn=bdd_connect(\"bdd_tag.db\")\n",
    "c=conn.cursor()\n",
    "l=[]\n",
    "val=values_to_insert = df_agency.iloc[0,:4]\n",
    "for i in val:\n",
    "    l.append(i)\n",
    "sql_query = 'INSERT INTO ' + \"agency\" + '(agency_id,agency_name,agency_url,agency_timezone) VALUES (?,?,?,?)'\n",
    "print(sql_query)\n",
    "c.execute(sql_query, l)\n",
    "conn.commit()\n",
    "conn.close"
   ]
  },
  {
   "cell_type": "code",
   "execution_count": null,
   "id": "994f46ef",
   "metadata": {},
   "outputs": [],
   "source": [
    "conn.close()"
   ]
  },
  {
   "cell_type": "markdown",
   "id": "58c60855",
   "metadata": {},
   "source": [
    "## Insertion Stops (bulk insert)"
   ]
  },
  {
   "cell_type": "code",
   "execution_count": null,
   "id": "c45d449a",
   "metadata": {},
   "outputs": [],
   "source": [
    "df_stop"
   ]
  },
  {
   "cell_type": "code",
   "execution_count": null,
   "id": "1e83d5c3",
   "metadata": {},
   "outputs": [],
   "source": [
    "conn=bdd_connect(\"bdd_tag.db\")\n",
    "c=conn.cursor()\n",
    "l=[]\n",
    "for i in range(len(df_stop)):\n",
    "    l=[]\n",
    "    val=values_to_insert = df_stop.iloc[i,:6]\n",
    "    for j in val:\n",
    "        l.append(j)\n",
    "    sql_query = 'INSERT INTO ' + \"stops\" + '(stop_id,stop_name,stop_lat,stop_lon,zone_id,parent_station) VALUES (?,?,?,?,?,?)'\n",
    "    c.execute(sql_query, l)\n",
    "conn.commit()\n",
    "conn.close()"
   ]
  },
  {
   "cell_type": "markdown",
   "id": "3289fb40",
   "metadata": {},
   "source": [
    "## implémenter une fonction qui génère une commande insertion SQL"
   ]
  },
  {
   "cell_type": "code",
   "execution_count": null,
   "id": "2062d499",
   "metadata": {},
   "outputs": [],
   "source": [
    "def gen_insert_queries(table_name:str, a_dict:dict):\n",
    "    insert = \"INSERT INTO \" + table_name + \"(\"\n",
    "    \n",
    "    for i, j in enumerate(a_dict):\n",
    "        if i == len(a_dict) - 1:\n",
    "            insert += str(j) +\") \"\n",
    "        else:\n",
    "            insert += str(j) +\", \"\n",
    "    \n",
    "    insert += \"VALUES(\"\n",
    "    \n",
    "    for i, j in enumerate(a_dict):\n",
    "        if i == len(a_dict) - 1:\n",
    "            insert += str(j) +\")\"\n",
    "        else:\n",
    "            insert += str(j) + \", \"\n",
    "            \n",
    "    return insert"
   ]
  },
  {
   "cell_type": "code",
   "execution_count": null,
   "id": "7c1bc965",
   "metadata": {},
   "outputs": [],
   "source": [
    "d = {\"voiture\": 4, \"vélo\": 2}\n"
   ]
  },
  {
   "cell_type": "code",
   "execution_count": null,
   "id": "17cdffca",
   "metadata": {
    "scrolled": true
   },
   "outputs": [],
   "source": [
    "gen_insert_queries(\"d\",d)"
   ]
  },
  {
   "cell_type": "markdown",
   "id": "b219c472",
   "metadata": {},
   "source": [
    "## implémenter une fonction qui génère des commandes d’insertion SQL"
   ]
  },
  {
   "cell_type": "code",
   "execution_count": null,
   "id": "51c36b87",
   "metadata": {},
   "outputs": [],
   "source": [
    "def get_insert_queries(tablename:str, df: pd.DataFrame):\n",
    "    \n",
    "    conn=bdd_connect(\"bdd_tag.db\")\n",
    "    c=conn.cursor()\n",
    "    l=[]\n",
    "    list_insert=[]\n",
    "    col_name=\"\"\n",
    "    \n",
    "    for k in df.columns:\n",
    "        if col_name==\"\":\n",
    "            col_name=k\n",
    "        else:\n",
    "            col_name=col_name+','+k\n",
    "            \n",
    "    for i in range(len(df)):\n",
    "        l=[]\n",
    "        val= df_stop.iloc[i,:]\n",
    "        \n",
    "        for j in val:\n",
    "            l.append(j)\n",
    "            \n",
    "        sql_query = 'INSERT INTO ' + tablename + '('+col_name+') VALUES ('+str(l)+')'\n",
    "        list_insert.append(sql_query)\n",
    "        \n",
    "    conn.close()\n",
    "    return list_insert"
   ]
  },
  {
   "cell_type": "code",
   "execution_count": null,
   "id": "b0ad651b",
   "metadata": {},
   "outputs": [],
   "source": [
    "t=get_insert_queries(\"stops\",df_stop)\n",
    "t"
   ]
  },
  {
   "cell_type": "markdown",
   "id": "bcde874b",
   "metadata": {},
   "source": [
    "## implémenter une procédure qui crée un fichier SQL"
   ]
  },
  {
   "cell_type": "code",
   "execution_count": null,
   "id": "986b3de0",
   "metadata": {},
   "outputs": [],
   "source": [
    "def gen_insert_file(filename: str, tablename, df):\n",
    "\n",
    "    conn = sqlite3.connect(filename)\n",
    "    c = conn.cursor()\n",
    "    \n",
    "    liste_insert = get_insert_queries(tablename, df)\n",
    "    for j, l in enumerate(liste_insert):\n",
    "        dico = {i: df.loc[j, i] for i in df.columns}\n",
    "\n",
    "        c.execute(l, dico)\n",
    "    conn.commit()\n",
    "    conn.close()\n",
    "    "
   ]
  },
  {
   "cell_type": "code",
   "execution_count": null,
   "id": "2d29b3c9",
   "metadata": {},
   "outputs": [],
   "source": []
  }
 ],
 "metadata": {
  "kernelspec": {
   "display_name": "Python 3 (ipykernel)",
   "language": "python",
   "name": "python3"
  },
  "language_info": {
   "codemirror_mode": {
    "name": "ipython",
    "version": 3
   },
   "file_extension": ".py",
   "mimetype": "text/x-python",
   "name": "python",
   "nbconvert_exporter": "python",
   "pygments_lexer": "ipython3",
   "version": "3.9.7"
  },
  "toc": {
   "base_numbering": 1,
   "nav_menu": {},
   "number_sections": true,
   "sideBar": true,
   "skip_h1_title": false,
   "title_cell": "Table of Contents",
   "title_sidebar": "Contents",
   "toc_cell": false,
   "toc_position": {},
   "toc_section_display": true,
   "toc_window_display": true
  }
 },
 "nbformat": 4,
 "nbformat_minor": 5
}
