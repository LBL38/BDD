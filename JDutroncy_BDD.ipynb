{
 "cells": [
  {
   "cell_type": "markdown",
   "id": "36af12be",
   "metadata": {},
   "source": [
    "# Remplissage d'une base de données existante"
   ]
  },
  {
   "cell_type": "markdown",
   "id": "8eadc5a5",
   "metadata": {},
   "source": [
    "## Depuis Pandas"
   ]
  },
  {
   "cell_type": "code",
   "execution_count": 92,
   "id": "e067d51e",
   "metadata": {},
   "outputs": [],
   "source": [
    "import sqlite3\n",
    "import pandas as pd\n",
    "#import pyodbc"
   ]
  },
  {
   "cell_type": "code",
   "execution_count": 93,
   "id": "cd0bf77e",
   "metadata": {},
   "outputs": [],
   "source": [
    "base_GTFS = sqlite3.connect('./GTFS/gtfs_tag.db')"
   ]
  },
  {
   "cell_type": "code",
   "execution_count": 94,
   "id": "053692f9",
   "metadata": {},
   "outputs": [],
   "source": [
    "don_agency = pd.read_csv(\n",
    "    './GTFS/SEM-GTFS/agency.txt', sep=\",\")"
   ]
  },
  {
   "cell_type": "code",
   "execution_count": 95,
   "id": "0c34f6eb",
   "metadata": {
    "scrolled": true
   },
   "outputs": [
    {
     "data": {
      "text/html": [
       "<div>\n",
       "<style scoped>\n",
       "    .dataframe tbody tr th:only-of-type {\n",
       "        vertical-align: middle;\n",
       "    }\n",
       "\n",
       "    .dataframe tbody tr th {\n",
       "        vertical-align: top;\n",
       "    }\n",
       "\n",
       "    .dataframe thead th {\n",
       "        text-align: right;\n",
       "    }\n",
       "</style>\n",
       "<table border=\"1\" class=\"dataframe\">\n",
       "  <thead>\n",
       "    <tr style=\"text-align: right;\">\n",
       "      <th></th>\n",
       "      <th>agency_id</th>\n",
       "      <th>agency_name</th>\n",
       "      <th>agency_url</th>\n",
       "      <th>agency_timezone</th>\n",
       "      <th>agency_lang</th>\n",
       "      <th>agency_phone</th>\n",
       "    </tr>\n",
       "  </thead>\n",
       "  <tbody>\n",
       "    <tr>\n",
       "      <th>0</th>\n",
       "      <td>SEM</td>\n",
       "      <td>Mobilités M - Tag</td>\n",
       "      <td>https://www.mobilites-m.fr/</td>\n",
       "      <td>Europe/Paris</td>\n",
       "      <td>FR</td>\n",
       "      <td>438703870</td>\n",
       "    </tr>\n",
       "  </tbody>\n",
       "</table>\n",
       "</div>"
      ],
      "text/plain": [
       "  agency_id        agency_name                   agency_url agency_timezone  \\\n",
       "0       SEM  Mobilités M - Tag  https://www.mobilites-m.fr/    Europe/Paris   \n",
       "\n",
       "  agency_lang  agency_phone  \n",
       "0          FR     438703870  "
      ]
     },
     "execution_count": 95,
     "metadata": {},
     "output_type": "execute_result"
    }
   ],
   "source": [
    "don_agency"
   ]
  },
  {
   "cell_type": "code",
   "execution_count": 96,
   "id": "c14331c7",
   "metadata": {},
   "outputs": [],
   "source": [
    "don_stops = pd.read_csv(\n",
    "    './GTFS/SEM-GTFS/stops.txt', sep=\",\")"
   ]
  },
  {
   "cell_type": "code",
   "execution_count": 97,
   "id": "9b35bd7b",
   "metadata": {
    "scrolled": false
   },
   "outputs": [
    {
     "data": {
      "text/html": [
       "<div>\n",
       "<style scoped>\n",
       "    .dataframe tbody tr th:only-of-type {\n",
       "        vertical-align: middle;\n",
       "    }\n",
       "\n",
       "    .dataframe tbody tr th {\n",
       "        vertical-align: top;\n",
       "    }\n",
       "\n",
       "    .dataframe thead th {\n",
       "        text-align: right;\n",
       "    }\n",
       "</style>\n",
       "<table border=\"1\" class=\"dataframe\">\n",
       "  <thead>\n",
       "    <tr style=\"text-align: right;\">\n",
       "      <th></th>\n",
       "      <th>stop_id</th>\n",
       "      <th>stop_code</th>\n",
       "      <th>stop_name</th>\n",
       "      <th>stop_lat</th>\n",
       "      <th>stop_lon</th>\n",
       "      <th>zone_id</th>\n",
       "      <th>location_type</th>\n",
       "      <th>parent_station</th>\n",
       "      <th>wheelchair_boarding</th>\n",
       "    </tr>\n",
       "  </thead>\n",
       "  <tbody>\n",
       "    <tr>\n",
       "      <th>0</th>\n",
       "      <td>0004</td>\n",
       "      <td>0004</td>\n",
       "      <td>Meylan, Revirée - Sayettes</td>\n",
       "      <td>45.21220</td>\n",
       "      <td>5.76728</td>\n",
       "      <td>NaN</td>\n",
       "      <td>NaN</td>\n",
       "      <td>REVIREES</td>\n",
       "      <td>0</td>\n",
       "    </tr>\n",
       "    <tr>\n",
       "      <th>1</th>\n",
       "      <td>0006</td>\n",
       "      <td>0006</td>\n",
       "      <td>La Tronche, Commandant Nal</td>\n",
       "      <td>45.20323</td>\n",
       "      <td>5.74535</td>\n",
       "      <td>NaN</td>\n",
       "      <td>NaN</td>\n",
       "      <td>COMMANAL</td>\n",
       "      <td>1</td>\n",
       "    </tr>\n",
       "    <tr>\n",
       "      <th>2</th>\n",
       "      <td>0007</td>\n",
       "      <td>0007</td>\n",
       "      <td>La Tronche, Musée Hébert</td>\n",
       "      <td>45.20564</td>\n",
       "      <td>5.74888</td>\n",
       "      <td>NaN</td>\n",
       "      <td>NaN</td>\n",
       "      <td>MUSHEBER</td>\n",
       "      <td>1</td>\n",
       "    </tr>\n",
       "    <tr>\n",
       "      <th>3</th>\n",
       "      <td>0008</td>\n",
       "      <td>0008</td>\n",
       "      <td>La Tronche, Centre Théologique</td>\n",
       "      <td>45.20617</td>\n",
       "      <td>5.75214</td>\n",
       "      <td>NaN</td>\n",
       "      <td>NaN</td>\n",
       "      <td>CENTHEOL</td>\n",
       "      <td>1</td>\n",
       "    </tr>\n",
       "    <tr>\n",
       "      <th>4</th>\n",
       "      <td>0011</td>\n",
       "      <td>0011</td>\n",
       "      <td>Meylan, Malacher</td>\n",
       "      <td>45.21128</td>\n",
       "      <td>5.78724</td>\n",
       "      <td>NaN</td>\n",
       "      <td>NaN</td>\n",
       "      <td>MALACHER</td>\n",
       "      <td>1</td>\n",
       "    </tr>\n",
       "    <tr>\n",
       "      <th>...</th>\n",
       "      <td>...</td>\n",
       "      <td>...</td>\n",
       "      <td>...</td>\n",
       "      <td>...</td>\n",
       "      <td>...</td>\n",
       "      <td>...</td>\n",
       "      <td>...</td>\n",
       "      <td>...</td>\n",
       "      <td>...</td>\n",
       "    </tr>\n",
       "    <tr>\n",
       "      <th>2379</th>\n",
       "      <td>VOHRIGEN</td>\n",
       "      <td>GENVOHRIGEN</td>\n",
       "      <td>Vizille, Parc Vöhringen</td>\n",
       "      <td>45.07888</td>\n",
       "      <td>5.76947</td>\n",
       "      <td>NaN</td>\n",
       "      <td>1.0</td>\n",
       "      <td>NaN</td>\n",
       "      <td>0</td>\n",
       "    </tr>\n",
       "    <tr>\n",
       "      <th>2380</th>\n",
       "      <td>XAVJOUVI</td>\n",
       "      <td>GENXAVJOUVI</td>\n",
       "      <td>Grenoble, Xavier Jouvin</td>\n",
       "      <td>45.19560</td>\n",
       "      <td>5.73009</td>\n",
       "      <td>NaN</td>\n",
       "      <td>1.0</td>\n",
       "      <td>NaN</td>\n",
       "      <td>0</td>\n",
       "    </tr>\n",
       "    <tr>\n",
       "      <th>2381</th>\n",
       "      <td>ZASPEYRE</td>\n",
       "      <td>GENZASPEYRE</td>\n",
       "      <td>Vif, Z.A. des Speyres</td>\n",
       "      <td>45.05690</td>\n",
       "      <td>5.68184</td>\n",
       "      <td>NaN</td>\n",
       "      <td>1.0</td>\n",
       "      <td>NaN</td>\n",
       "      <td>0</td>\n",
       "    </tr>\n",
       "    <tr>\n",
       "      <th>2382</th>\n",
       "      <td>ZELLAMEL</td>\n",
       "      <td>GENZELLAMEL</td>\n",
       "      <td>Saint-Martin-d'Hères, Zella Mehlis</td>\n",
       "      <td>45.16707</td>\n",
       "      <td>5.75354</td>\n",
       "      <td>NaN</td>\n",
       "      <td>1.0</td>\n",
       "      <td>NaN</td>\n",
       "      <td>0</td>\n",
       "    </tr>\n",
       "    <tr>\n",
       "      <th>2383</th>\n",
       "      <td>ZILES</td>\n",
       "      <td>GENZILES</td>\n",
       "      <td>Le Pont-de-Claix, ZI des Iles</td>\n",
       "      <td>45.13853</td>\n",
       "      <td>5.69449</td>\n",
       "      <td>NaN</td>\n",
       "      <td>1.0</td>\n",
       "      <td>NaN</td>\n",
       "      <td>0</td>\n",
       "    </tr>\n",
       "  </tbody>\n",
       "</table>\n",
       "<p>2384 rows × 9 columns</p>\n",
       "</div>"
      ],
      "text/plain": [
       "       stop_id    stop_code                           stop_name  stop_lat  \\\n",
       "0         0004         0004          Meylan, Revirée - Sayettes  45.21220   \n",
       "1         0006         0006          La Tronche, Commandant Nal  45.20323   \n",
       "2         0007         0007            La Tronche, Musée Hébert  45.20564   \n",
       "3         0008         0008      La Tronche, Centre Théologique  45.20617   \n",
       "4         0011         0011                    Meylan, Malacher  45.21128   \n",
       "...        ...          ...                                 ...       ...   \n",
       "2379  VOHRIGEN  GENVOHRIGEN             Vizille, Parc Vöhringen  45.07888   \n",
       "2380  XAVJOUVI  GENXAVJOUVI             Grenoble, Xavier Jouvin  45.19560   \n",
       "2381  ZASPEYRE  GENZASPEYRE               Vif, Z.A. des Speyres  45.05690   \n",
       "2382  ZELLAMEL  GENZELLAMEL  Saint-Martin-d'Hères, Zella Mehlis  45.16707   \n",
       "2383     ZILES     GENZILES       Le Pont-de-Claix, ZI des Iles  45.13853   \n",
       "\n",
       "      stop_lon  zone_id  location_type parent_station  wheelchair_boarding  \n",
       "0      5.76728      NaN            NaN       REVIREES                    0  \n",
       "1      5.74535      NaN            NaN       COMMANAL                    1  \n",
       "2      5.74888      NaN            NaN       MUSHEBER                    1  \n",
       "3      5.75214      NaN            NaN       CENTHEOL                    1  \n",
       "4      5.78724      NaN            NaN       MALACHER                    1  \n",
       "...        ...      ...            ...            ...                  ...  \n",
       "2379   5.76947      NaN            1.0            NaN                    0  \n",
       "2380   5.73009      NaN            1.0            NaN                    0  \n",
       "2381   5.68184      NaN            1.0            NaN                    0  \n",
       "2382   5.75354      NaN            1.0            NaN                    0  \n",
       "2383   5.69449      NaN            1.0            NaN                    0  \n",
       "\n",
       "[2384 rows x 9 columns]"
      ]
     },
     "execution_count": 97,
     "metadata": {},
     "output_type": "execute_result"
    }
   ],
   "source": [
    "don_stops"
   ]
  },
  {
   "cell_type": "code",
   "execution_count": 98,
   "id": "bd456c50",
   "metadata": {},
   "outputs": [
    {
     "data": {
      "text/plain": [
       "'stop_id'"
      ]
     },
     "execution_count": 98,
     "metadata": {},
     "output_type": "execute_result"
    }
   ],
   "source": [
    "don_stops.columns[0]"
   ]
  },
  {
   "cell_type": "code",
   "execution_count": 99,
   "id": "b9b7f02f",
   "metadata": {},
   "outputs": [
    {
     "data": {
      "text/plain": [
       "'0004'"
      ]
     },
     "execution_count": 99,
     "metadata": {},
     "output_type": "execute_result"
    }
   ],
   "source": [
    "don_stops.loc[0][0]"
   ]
  },
  {
   "cell_type": "code",
   "execution_count": 100,
   "id": "1e3b513e",
   "metadata": {},
   "outputs": [],
   "source": [
    "don_agency.to_sql(name=\"Agency\", con=base_GTFS, if_exists='append', index=False)"
   ]
  },
  {
   "cell_type": "code",
   "execution_count": 101,
   "id": "003312a6",
   "metadata": {},
   "outputs": [],
   "source": [
    "don_stops.to_sql(name=\"Stops\", con=base_GTFS, if_exists='append', index=False)"
   ]
  },
  {
   "cell_type": "markdown",
   "id": "f62929c9",
   "metadata": {},
   "source": [
    "## Fonction pour générer une commande insertion SQL"
   ]
  },
  {
   "cell_type": "markdown",
   "id": "2035f38a",
   "metadata": {},
   "source": [
    "### une chaine de caractère"
   ]
  },
  {
   "cell_type": "code",
   "execution_count": 102,
   "id": "67dc06ad",
   "metadata": {},
   "outputs": [],
   "source": [
    "curseur = base_GTFS.cursor()"
   ]
  },
  {
   "cell_type": "code",
   "execution_count": 140,
   "id": "3a62ef7c",
   "metadata": {},
   "outputs": [],
   "source": [
    "table_name = \"Stops\""
   ]
  },
  {
   "cell_type": "code",
   "execution_count": 104,
   "id": "493db25c",
   "metadata": {},
   "outputs": [],
   "source": [
    "a_dict = {'stop_id': 9999,'stop_code': 9999, 'stop_name': '\"Ma Maison\"', 'stop_lat': 45.2122, 'stop_lon': 5.76728, 'zone_id': None, 'location_type': None, 'parent_station': 'LYON','wheelchair_boarding': 1}"
   ]
  },
  {
   "cell_type": "code",
   "execution_count": 105,
   "id": "eaabd57c",
   "metadata": {},
   "outputs": [],
   "source": [
    "def gen_insert_query(table_name:str, a_dict:dict):\n",
    "    \"\"\"Création d'une chaine de caractère à partir d'un dictionnaire\"\"\"\n",
    "    \n",
    "    requete_init = f\"INSERT INTO {table_name}(\"\n",
    "    requete_in = []\n",
    "    for i in a_dict:\n",
    "        requete_in.append(str(i))\n",
    "\n",
    "    requete_in_str =\"\"\n",
    "    for i in requete_in:\n",
    "        requete_in_str += f\"{i},\"\n",
    "\n",
    "    requete_in_str = requete_in_str[:-1]\n",
    "    requete_in2= \")VALUES(\" \n",
    "\n",
    "    requete_in_str2 =\"\"\n",
    "    for i in requete_in:\n",
    "        requete_in_str2 += f\":{i},\"\n",
    "    requete_in_str2 = requete_in_str2[:-1]\n",
    "    \n",
    "    requete=requete_init+requete_in_str+requete_in2+requete_in_str2+\")\"\n",
    "    \n",
    "    return requete"
   ]
  },
  {
   "cell_type": "markdown",
   "id": "dc72eb22",
   "metadata": {},
   "source": [
    "Alternative Philo: \n",
    "\n",
    "mySql_insert_query = 'INSERT INTO '+table_name+' ('+', '.join(tuple(getList(a_dict)))+')'+' VALUES '+' (:'+', :'.join(tuple(getList(a_dict)))+')'\n",
    "    return(mySql_insert_query)\n",
    "    \n",
    "def getList(dict):\n",
    "    return dict.keys()"
   ]
  },
  {
   "cell_type": "markdown",
   "id": "79bc9ae8",
   "metadata": {},
   "source": [
    "Alternative Roman\n",
    "\n",
    "def gen_insert_query(table_name, a_dict):\n",
    "    cols = tuple(a_dict.keys())\n",
    "    vals = tuple(a_dict.values())\n",
    "    return f\"INSERT INTO {table_name} {cols} VALUES {vals}\""
   ]
  },
  {
   "cell_type": "code",
   "execution_count": 106,
   "id": "633c90dc",
   "metadata": {},
   "outputs": [
    {
     "data": {
      "text/plain": [
       "<sqlite3.Cursor at 0x7f66ce6fdd50>"
      ]
     },
     "execution_count": 106,
     "metadata": {},
     "output_type": "execute_result"
    }
   ],
   "source": [
    "curseur.execute(gen_insert_query(table_name,a_dict),a_dict)"
   ]
  },
  {
   "cell_type": "code",
   "execution_count": 107,
   "id": "61ff2311",
   "metadata": {},
   "outputs": [],
   "source": [
    "base_GTFS.commit()"
   ]
  },
  {
   "cell_type": "markdown",
   "id": "8ed8cb15",
   "metadata": {},
   "source": [
    "### une liste de chaines de caractères"
   ]
  },
  {
   "cell_type": "code",
   "execution_count": 108,
   "id": "1827722c",
   "metadata": {},
   "outputs": [],
   "source": [
    "def get_insert_queries(tablename:str, df: pd.DataFrame):\n",
    "    liste = []\n",
    "    df_in = df.copy()\n",
    "    \n",
    "    a_dict = df_in.to_dict(orient=\"results\")\n",
    "    for dic in a_dict:\n",
    "        liste.append(gen_insert_query(table_name, dic))\n",
    "        \n",
    "    return liste"
   ]
  },
  {
   "cell_type": "code",
   "execution_count": 130,
   "id": "c745ca75",
   "metadata": {},
   "outputs": [],
   "source": [
    "# ALTERNATIVE ROMAN\n",
    "def get_insert_queries2(table_name, df):\n",
    "    querylist = []\n",
    "    for row in range (len(df)):\n",
    "        querylist.append(gen_insert_query(table_name, dict(df.iloc[row,:])))\n",
    "    return querylist"
   ]
  },
  {
   "cell_type": "code",
   "execution_count": 156,
   "id": "7fe5dadc",
   "metadata": {},
   "outputs": [],
   "source": [
    "# ALTERNATIVE KEVIN\n",
    "def get_insert_queries3(table_name:str, df:pd.DataFrame) -> str:\n",
    "        dico = df.to_dict(orient='list')\n",
    "        return f\"INSERT INTO {table_name} {tuple(dico.keys())} VALUES {','.join(str(i) for i in tuple(zip(*dico.values())))}\""
   ]
  },
  {
   "cell_type": "code",
   "execution_count": 109,
   "id": "fe0dbe62",
   "metadata": {},
   "outputs": [],
   "source": [
    "don_stops2 = don_stops.head(5)"
   ]
  },
  {
   "cell_type": "markdown",
   "id": "8db3aaa4",
   "metadata": {},
   "source": [
    "REQUETES IDENTIQUES SANS LES VALEURS (fonctionne pour le .execute)"
   ]
  },
  {
   "cell_type": "code",
   "execution_count": 110,
   "id": "a7612eb4",
   "metadata": {
    "scrolled": false
   },
   "outputs": [
    {
     "name": "stderr",
     "output_type": "stream",
     "text": [
      "/tmp/ipykernel_3694/1272310425.py:5: FutureWarning: Using short name for 'orient' is deprecated. Only the options: ('dict', list, 'series', 'split', 'records', 'index') will be used in a future version. Use one of the above to silence this warning.\n",
      "  a_dict = df_in.to_dict(orient=\"results\")\n"
     ]
    },
    {
     "data": {
      "text/plain": [
       "['INSERT INTO Stops(stop_id,stop_code,stop_name,stop_lat,stop_lon,zone_id,location_type,parent_station,wheelchair_boarding)VALUES(:stop_id,:stop_code,:stop_name,:stop_lat,:stop_lon,:zone_id,:location_type,:parent_station,:wheelchair_boarding)',\n",
       " 'INSERT INTO Stops(stop_id,stop_code,stop_name,stop_lat,stop_lon,zone_id,location_type,parent_station,wheelchair_boarding)VALUES(:stop_id,:stop_code,:stop_name,:stop_lat,:stop_lon,:zone_id,:location_type,:parent_station,:wheelchair_boarding)',\n",
       " 'INSERT INTO Stops(stop_id,stop_code,stop_name,stop_lat,stop_lon,zone_id,location_type,parent_station,wheelchair_boarding)VALUES(:stop_id,:stop_code,:stop_name,:stop_lat,:stop_lon,:zone_id,:location_type,:parent_station,:wheelchair_boarding)',\n",
       " 'INSERT INTO Stops(stop_id,stop_code,stop_name,stop_lat,stop_lon,zone_id,location_type,parent_station,wheelchair_boarding)VALUES(:stop_id,:stop_code,:stop_name,:stop_lat,:stop_lon,:zone_id,:location_type,:parent_station,:wheelchair_boarding)',\n",
       " 'INSERT INTO Stops(stop_id,stop_code,stop_name,stop_lat,stop_lon,zone_id,location_type,parent_station,wheelchair_boarding)VALUES(:stop_id,:stop_code,:stop_name,:stop_lat,:stop_lon,:zone_id,:location_type,:parent_station,:wheelchair_boarding)']"
      ]
     },
     "execution_count": 110,
     "metadata": {},
     "output_type": "execute_result"
    }
   ],
   "source": [
    "liste_sql = get_insert_queries(table_name,don_stops2)\n",
    "liste_sql"
   ]
  },
  {
   "cell_type": "markdown",
   "id": "c2c7b15c",
   "metadata": {},
   "source": [
    "REQUETES COMPLETES !"
   ]
  },
  {
   "cell_type": "code",
   "execution_count": 157,
   "id": "4702baa5",
   "metadata": {},
   "outputs": [
    {
     "data": {
      "text/plain": [
       "\"INSERT INTO Stops ('stop_id', 'stop_code', 'stop_name', 'stop_lat', 'stop_lon', 'zone_id', 'location_type', 'parent_station', 'wheelchair_boarding') VALUES ('0004', '0004', 'Meylan, Revirée - Sayettes', 45.2122, 5.76728, nan, nan, 'REVIREES', 0),('0006', '0006', 'La Tronche, Commandant Nal', 45.20323, 5.74535, nan, nan, 'COMMANAL', 1),('0007', '0007', 'La Tronche, Musée Hébert', 45.20564, 5.74888, nan, nan, 'MUSHEBER', 1),('0008', '0008', 'La Tronche, Centre Théologique', 45.20617, 5.75214, nan, nan, 'CENTHEOL', 1),('0011', '0011', 'Meylan, Malacher', 45.21128, 5.78724, nan, nan, 'MALACHER', 1)\""
      ]
     },
     "execution_count": 157,
     "metadata": {},
     "output_type": "execute_result"
    }
   ],
   "source": [
    "liste_test = get_insert_queries3(table_name,don_stops2)\n",
    "liste_test"
   ]
  },
  {
   "cell_type": "code",
   "execution_count": 160,
   "id": "44c2d3e2",
   "metadata": {
    "scrolled": true
   },
   "outputs": [],
   "source": [
    "a_dict2 = don_stops2.to_dict(orient=\"list\")"
   ]
  },
  {
   "cell_type": "code",
   "execution_count": 161,
   "id": "81d2dff5",
   "metadata": {},
   "outputs": [],
   "source": [
    "a_dict = don_stops2.to_dict(orient=\"list\")"
   ]
  },
  {
   "cell_type": "code",
   "execution_count": 113,
   "id": "e666fea1",
   "metadata": {
    "scrolled": true
   },
   "outputs": [
    {
     "data": {
      "text/plain": [
       "{'stop_id': '0004',\n",
       " 'stop_code': '0004',\n",
       " 'stop_name': 'Meylan, Revirée - Sayettes',\n",
       " 'stop_lat': 45.2122,\n",
       " 'stop_lon': 5.76728,\n",
       " 'zone_id': nan,\n",
       " 'location_type': nan,\n",
       " 'parent_station': 'REVIREES',\n",
       " 'wheelchair_boarding': 0}"
      ]
     },
     "execution_count": 113,
     "metadata": {},
     "output_type": "execute_result"
    }
   ],
   "source": [
    "a_dict[0]"
   ]
  },
  {
   "cell_type": "markdown",
   "id": "165040d7",
   "metadata": {},
   "source": [
    "### Enregistrement sur la Base de D"
   ]
  },
  {
   "cell_type": "code",
   "execution_count": 115,
   "id": "58c57eb5",
   "metadata": {
    "scrolled": true
   },
   "outputs": [],
   "source": [
    "i=0\n",
    "for sql_request in liste_sql:\n",
    "    curseur.execute(sql_request, a_dict[i])\n",
    "    base_GTFS.commit()\n",
    "    i+=1"
   ]
  },
  {
   "cell_type": "markdown",
   "id": "5bdcd5ed",
   "metadata": {},
   "source": [
    "## Fonction pour créer un fichier SQL"
   ]
  },
  {
   "cell_type": "code",
   "execution_count": 178,
   "id": "a07b3e82",
   "metadata": {},
   "outputs": [],
   "source": [
    "def gen_insert_file(filename, tablename, df):\n",
    "    '''\n",
    "    procédure qui crée un fichier db\n",
    "    filename : est le nom de fichier (e.g. insert_stops.db)\n",
    "    tablename : le nom de la relation où nous allons insérer nos tuples (e.g. gtfs_stops)\n",
    "    df : un dataframe pandas\n",
    "    '''\n",
    "    fichier = open(f\"{filename}\", \"a\")\n",
    "    liste = get_insert_queries3(tablename,df)\n",
    "    fichier.write(f\"\\n{liste}\")\n",
    "    fichier.close()"
   ]
  },
  {
   "cell_type": "code",
   "execution_count": 164,
   "id": "f00093ff",
   "metadata": {},
   "outputs": [],
   "source": [
    "don_stop_times = pd.read_csv(\n",
    "    './GTFS/SEM-GTFS/stop_times.txt', sep=\",\")"
   ]
  },
  {
   "cell_type": "code",
   "execution_count": 165,
   "id": "b945dc02",
   "metadata": {},
   "outputs": [],
   "source": [
    "don_trips = pd.read_csv(\n",
    "    './GTFS/SEM-GTFS/trips.txt', sep=\",\")"
   ]
  },
  {
   "cell_type": "markdown",
   "id": "2bb62a0c",
   "metadata": {},
   "source": [
    "### Création de deux fichiers sql"
   ]
  },
  {
   "cell_type": "code",
   "execution_count": 180,
   "id": "2b8d7000",
   "metadata": {},
   "outputs": [],
   "source": [
    "gen_insert_file(\"stop_times.sql\", \"StopTimes\",don_stop_times)\n",
    "gen_insert_file(\"trip.sql\", \"Trips\",don_trips)"
   ]
  }
 ],
 "metadata": {
  "kernelspec": {
   "display_name": "Python 3 (ipykernel)",
   "language": "python",
   "name": "python3"
  },
  "language_info": {
   "codemirror_mode": {
    "name": "ipython",
    "version": 3
   },
   "file_extension": ".py",
   "mimetype": "text/x-python",
   "name": "python",
   "nbconvert_exporter": "python",
   "pygments_lexer": "ipython3",
   "version": "3.9.7"
  }
 },
 "nbformat": 4,
 "nbformat_minor": 5
}
